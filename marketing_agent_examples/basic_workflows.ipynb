{
 "cells": [
  {
   "cell_type": "markdown",
   "metadata": {},
   "source": [
    "# Basic agentic workflows, for a marketing agent use case\n",
    "\n",
    "This notebook walks through 3 simple multi-LLM workflows, with the use case of a marketing agent being the guiding example throughout.\n",
    "\n",
    "1. **Prompt-chaining**: Decompose a task into sequential subtasks, where eaech step builds on previous results.\n",
    "2. **Parallelization**: Distributes independent subtasks across multiple LLMs or concurrent processing.\n",
    "3. **Routing**: Dynamically selects specialized LLM paths based on input characteristics.\n",
    "\n",
    "Our motivating example will be creating a restaurant marketing AI agent that writes marketing copy across various mediums (email blast, blog post, social media). We'll see how each of these methods approaches this task."
   ]
  },
  {
   "cell_type": "markdown",
   "metadata": {},
   "source": [
    "#### Step 0: some setup"
   ]
  },
  {
   "cell_type": "code",
   "execution_count": 14,
   "metadata": {},
   "outputs": [
    {
     "name": "stdout",
     "output_type": "stream",
     "text": [
      "PYTHONPATH set to: /Users/mark/Documents/work/demos/ai_agent_learning_examples\n"
     ]
    }
   ],
   "source": [
    "import sys\n",
    "import os\n",
    "\n",
    "project_root = os.path.abspath(os.path.dirname(os.getcwd()))\n",
    "if project_root not in sys.path:\n",
    "    sys.path.insert(0, project_root)\n",
    "print(\"PYTHONPATH set to:\", project_root)"
   ]
  },
  {
   "cell_type": "code",
   "execution_count": 22,
   "metadata": {},
   "outputs": [
    {
     "name": "stdout",
     "output_type": "stream",
     "text": [
      "Python executable: /Users/mark/anaconda3/envs/ai_agent_learning_examples/bin/python\n",
      "\n",
      "Python path:\n",
      "  /Users/mark/Documents/work/demos/ai_agent_learning_examples\n",
      "\n",
      "Current working directory: /Users/mark/Documents/work/demos/ai_agent_learning_examples/marketing_agent_examples\n",
      "Directory contents:\n",
      "  0: models.py\n"
     ]
    }
   ],
   "source": [
    "import sys\n",
    "print(\"Python executable:\", sys.executable)\n",
    "print(\"\\nPython path:\")\n",
    "for i, path in enumerate(sys.path):\n",
    "    if i >= 1:\n",
    "        break\n",
    "    print(f\"  {path}\")\n",
    "\n",
    "print(f\"\\nCurrent working directory: {os.getcwd()}\")\n",
    "print(f\"Directory contents:\")\n",
    "import os\n",
    "for i, item in enumerate(os.listdir('.')):\n",
    "    if i >= 1:\n",
    "        break\n",
    "    print(f\"  {i}: {item}\")\n"
   ]
  },
  {
   "cell_type": "markdown",
   "metadata": {},
   "source": [
    "## 1. Prompt-chaining\n",
    "\n",
    "This method breaks down a task into a series of sequential subtasks, where each step builds on previous results.\n",
    "\n",
    "For our example, we can break down the marketing AI agent chain into each of these steps:\n",
    "\n",
    "1. Create the idea to promote.\n",
    "2. Evaluate and score the ideas. Then pick one to continue with.\n",
    "3. Expand the idea into a blog post.\n",
    "4. Score/evaluate the blog post.\n",
    "5. Summarize blog post for email.\n",
    "6. Score/evaluate the email-formatted result.\n",
    "7. Create social media captions.\n",
    "8. Score/evaluate the social media captions.\n",
    "\n",
    "Let's do each of these in turn."
   ]
  },
  {
   "cell_type": "markdown",
   "metadata": {},
   "source": [
    "### 1a. Create ideas for what to promote.\n",
    "\n",
    "Here, let's create a first pass of our prompt for our idea generation step."
   ]
  },
  {
   "cell_type": "code",
   "execution_count": 10,
   "metadata": {},
   "outputs": [],
   "source": [
    "idea_generation_prompt = \"\"\"\n",
    "You are a marketing agent. You are given a product and a target audience.\n",
    "You will generate a list of ideas for a marketing campaign.\n",
    "\n",
    "Client: American-style brunch restaurant.\n",
    "\n",
    "Product: Brunch menu. Things we want to promote include:\n",
    "- $9.99 full breakfast with coffee. Features 2 eggs, 3 pieces of bacon\n",
    "(or choice of meat), potatoes, fresh fruit, and coffee.\n",
    "- Hearty Mediterranean wrap for lunch\n",
    "- Popular $20.99 Sunday brunch buffet featuring full breakfast options\n",
    "(eggs, pancakes, waffles, bacon, sausage, hash browns, omelettes)\n",
    "and lunch options (salad bar, meats, etc.).\n",
    "\n",
    "Target audience:\n",
    "    - Families\n",
    "    - Health-minded individuals\n",
    "    - Brunch group gatherings\n",
    "\"\"\""
   ]
  },
  {
   "cell_type": "markdown",
   "metadata": {},
   "source": [
    "Let's actually pass this into an LLM to improve the prompt. We can use an LLM for this prompt improving task, and there are explicit tools like Claude's [prompt improver](https://docs.anthropic.com/en/docs/build-with-claude/prompt-engineering/prompt-improver) made for this task alone.\n",
    "\n",
    "Here's the improved version that ChatGPT gave me:\n"
   ]
  },
  {
   "cell_type": "code",
   "execution_count": 11,
   "metadata": {},
   "outputs": [],
   "source": [
    "idea_generation_prompt = \"\"\"\n",
    "You are an expert marketing agent helping a neighborhood American-style brunch restaurant design a creative and targeted marketing campaign. You will be given product offerings and a target audience. Your job is to generate 5–7 campaign ideas that highlight the value of the offerings and appeal to the specific interests of the audience segments.\n",
    "\n",
    "Client: Independent American-style brunch restaurant known for quality and community.\n",
    "\n",
    "Product offerings to highlight:\n",
    "1. Budget-friendly $9.99 full breakfast combo — includes 2 eggs, choice of meat (bacon, sausage, or veggie patty), breakfast potatoes, fresh fruit, and coffee.\n",
    "2. Hearty and nutritious Mediterranean wrap — packed with veggies and lean protein, great for health-conscious diners.\n",
    "3. Popular $20.99 all-you-can-eat Sunday brunch buffet — includes full breakfast classics (eggs, pancakes, waffles, bacon, sausage, hash browns, omelets) and lunch options (salad bar, seasonal meats, and sides).\n",
    "\n",
    "Target audience:\n",
    "- Families looking for weekend outings\n",
    "- Health-conscious individuals seeking nutritious, flavorful options\n",
    "- Social brunch groups celebrating milestones or gathering casually\n",
    "\n",
    "Output:\n",
    "- A list of 5-7 specific marketing campaign ideas\n",
    "- Each idea should include a title and a 2-3 sentence explanation\n",
    "- Tailor each idea to one or more of the audience segments\n",
    "- Highlight value, experience, or emotional appeal\n",
    "\"\"\""
   ]
  },
  {
   "cell_type": "markdown",
   "metadata": {},
   "source": [
    "Let's also make sure that our prompt conforms to a specific format.\n"
   ]
  },
  {
   "cell_type": "code",
   "execution_count": 16,
   "metadata": {},
   "outputs": [],
   "source": [
    "from langchain.chat_models import ChatOpenAI\n",
    "from langchain.output_parsers import PydanticOutputParser\n",
    "from langchain.prompts import PromptTemplate\n",
    "from langchain.schema import SystemMessage, HumanMessage\n"
   ]
  },
  {
   "cell_type": "code",
   "execution_count": 17,
   "metadata": {},
   "outputs": [],
   "source": [
    "from marketing_agent_examples.models import ProposedIdeasWrapper\n",
    "\n",
    "parser = PydanticOutputParser(pydantic_object=ProposedIdeasWrapper)"
   ]
  },
  {
   "cell_type": "code",
   "execution_count": 23,
   "metadata": {},
   "outputs": [],
   "source": [
    "format_instructions = parser.get_format_instructions()\n",
    "\n",
    "prompt = PromptTemplate(\n",
    "    template=\"\"\"\n",
    "        {idea_generation_prompt}\n",
    "        {format_instructions}\n",
    "    \"\"\",\n",
    "    input_variables=[],\n",
    "    partial_variables={\n",
    "        \"format_instructions\": format_instructions,\n",
    "        \"idea_generation_prompt\": idea_generation_prompt\n",
    "    }\n",
    ")"
   ]
  },
  {
   "cell_type": "code",
   "execution_count": 24,
   "metadata": {},
   "outputs": [
    {
     "name": "stderr",
     "output_type": "stream",
     "text": [
      "/var/folders/9g/nhh_jmv17sd2604y43zdctzw0000gn/T/ipykernel_93715/940076340.py:1: LangChainDeprecationWarning: The class `ChatOpenAI` was deprecated in LangChain 0.0.10 and will be removed in 1.0. An updated version of the class exists in the :class:`~langchain-openai package and should be used instead. To use it run `pip install -U :class:`~langchain-openai` and import as `from :class:`~langchain_openai import ChatOpenAI``.\n",
      "  llm = ChatOpenAI(model=\"gpt-4o-mini\", temperature=0.0)\n"
     ]
    }
   ],
   "source": [
    "llm = ChatOpenAI(model=\"gpt-4o-mini\", temperature=0.0)"
   ]
  },
  {
   "cell_type": "code",
   "execution_count": 25,
   "metadata": {},
   "outputs": [],
   "source": [
    "messages = [\n",
    "    SystemMessage(content=\"You are a helpful assistant.\"),\n",
    "    HumanMessage(content=prompt.format())\n",
    "]"
   ]
  },
  {
   "cell_type": "markdown",
   "metadata": {},
   "source": [
    "Let's try this out and see what we get."
   ]
  },
  {
   "cell_type": "code",
   "execution_count": 26,
   "metadata": {},
   "outputs": [
    {
     "name": "stderr",
     "output_type": "stream",
     "text": [
      "/var/folders/9g/nhh_jmv17sd2604y43zdctzw0000gn/T/ipykernel_93715/3050779672.py:1: LangChainDeprecationWarning: The method `BaseChatModel.__call__` was deprecated in langchain-core 0.1.7 and will be removed in 1.0. Use :meth:`~invoke` instead.\n",
      "  response = llm(messages)\n"
     ]
    }
   ],
   "source": [
    "response = llm(messages)\n",
    "parsed = parser.parse(response.content)"
   ]
  },
  {
   "cell_type": "code",
   "execution_count": 35,
   "metadata": {},
   "outputs": [
    {
     "name": "stdout",
     "output_type": "stream",
     "text": [
      "\n",
      "=== Idea 1 ===\n",
      "Idea: Family Fun Brunch Day\n",
      "Audience: Families looking for weekend outings\n",
      "Campaign Message: Create lasting memories with our budget-friendly $9.99 full breakfast combo, perfect for families!\n",
      "==================================================\n",
      "\n",
      "=== Idea 2 ===\n",
      "Idea: Healthy Start Sundays\n",
      "Audience: Health-conscious individuals seeking nutritious, flavorful options\n",
      "Campaign Message: Kickstart your week with our nutritious Mediterranean wrap, packed with fresh veggies and lean protein!\n",
      "==================================================\n",
      "\n",
      "=== Idea 3 ===\n",
      "Idea: Brunch & Celebrate\n",
      "Audience: Social brunch groups celebrating milestones or gathering casually\n",
      "Campaign Message: Celebrate life’s moments with our all-you-can-eat Sunday brunch buffet, perfect for gatherings!\n",
      "==================================================\n",
      "\n",
      "=== Idea 4 ===\n",
      "Idea: Brunch Buddy Loyalty Program\n",
      "Audience: Families looking for weekend outings and social brunch groups\n",
      "Campaign Message: Join our Brunch Buddy Loyalty Program and earn rewards for every visit!\n",
      "==================================================\n",
      "\n",
      "=== Idea 5 ===\n",
      "Idea: Weekend Brunch Specials\n",
      "Audience: Families looking for weekend outings and health-conscious individuals\n",
      "Campaign Message: Enjoy our special weekend brunch menu featuring both hearty and healthy options!\n",
      "==================================================\n",
      "\n",
      "=== Idea 6 ===\n",
      "Idea: Brunch with a Cause\n",
      "Audience: Social brunch groups celebrating milestones or gathering casually\n",
      "Campaign Message: Gather your friends for brunch and support local charities with our Brunch with a Cause events!\n",
      "==================================================\n",
      "\n",
      "=== Idea 7 ===\n",
      "Idea: Seasonal Flavor Fest\n",
      "Audience: Health-conscious individuals and families looking for weekend outings\n",
      "Campaign Message: Experience the taste of the season with our fresh, flavorful brunch options!\n",
      "==================================================\n"
     ]
    }
   ],
   "source": [
    "generated_ideas: ProposedIdeasWrapper = parsed.ideas\n",
    "\n",
    "for i, idea in enumerate(generated_ideas, 1):\n",
    "    print(f\"\\n=== Idea {i} ===\")\n",
    "    print(f\"Idea: {idea.idea}\")\n",
    "    print(f\"Audience: {idea.audience}\")\n",
    "    print(f\"Campaign Message: {idea.campaign_message}\")\n",
    "    print(\"=\" * 50)"
   ]
  },
  {
   "cell_type": "markdown",
   "metadata": {},
   "source": [
    "### 1b. Evaluate the created ideas.\n",
    "\n",
    "Now that we have all of these ideas, let's ask the LLM to evaluate the ideas and help us pick the best one."
   ]
  },
  {
   "cell_type": "code",
   "execution_count": 33,
   "metadata": {},
   "outputs": [],
   "source": [
    "from models import IdeaEvaluationOutput\n",
    "from langchain.output_parsers import PydanticOutputParser\n",
    "\n",
    "parser = PydanticOutputParser(pydantic_object=IdeaEvaluationOutput)\n",
    "\n",
    "idea_evaluation_instructions = parser.get_format_instructions()"
   ]
  },
  {
   "cell_type": "code",
   "execution_count": 34,
   "metadata": {},
   "outputs": [],
   "source": [
    "idea_evaluation_prompt = PromptTemplate(\n",
    "    template=\"\"\"\n",
    "You are a senior marketing strategist evaluating proposed campaign ideas for an American-style brunch restaurant.\n",
    "\n",
    "Evaluate each idea on the following criteria (score from 0-5):\n",
    "- **Audience Fit**: Does it match the needs or preferences of the specified audience?\n",
    "- **Clarity**: Is the idea easy to understand and well-articulated?\n",
    "- **Creativity**: How original or compelling is the campaign concept?\n",
    "- **Channel Suitability**: Does the distribution method or concept fit real-world marketing channels (e.g., Instagram, flyers, email)?\n",
    "\n",
    "Also include brief **comments** on the strengths or weaknesses of each idea.\n",
    "\n",
    "Here are the proposed ideas to review:\n",
    "{idea_text}\n",
    "\n",
    "{evaluation_instructions}\n",
    "\"\"\",\n",
    "    input_variables=[\"idea_text\"],\n",
    "    partial_variables={\"evaluation_instructions\": idea_evaluation_instructions}\n",
    ")"
   ]
  },
  {
   "cell_type": "markdown",
   "metadata": {},
   "source": [
    "Let's now take our previous ideas from above and pass them into this prompt."
   ]
  },
  {
   "cell_type": "code",
   "execution_count": 39,
   "metadata": {},
   "outputs": [],
   "source": [
    "from marketing_agent_examples.models import ProposedIdea\n",
    "\n",
    "def format_ideas_for_evaluation(ideas: list[ProposedIdea]) -> str:\n",
    "    result = []\n",
    "    for i, idea in enumerate(ideas, 1):\n",
    "        result.append(f\"\"\"\n",
    "            Idea {i}:\n",
    "            Audience: {idea.audience}\n",
    "            Name: {idea.idea}\n",
    "            Message: {idea.campaign_message}\n",
    "            Concept: {idea.concept}\n",
    "        \"\"\"\n",
    "        )\n",
    "    return \"\\n\\n\".join(result)"
   ]
  },
  {
   "cell_type": "code",
   "execution_count": 40,
   "metadata": {},
   "outputs": [],
   "source": [
    "idea_text = format_ideas_for_evaluation(generated_ideas)"
   ]
  },
  {
   "cell_type": "code",
   "execution_count": 48,
   "metadata": {},
   "outputs": [
    {
     "name": "stdout",
     "output_type": "stream",
     "text": [
      "\n",
      "            Idea 1:\n",
      "            Audience: Families looking for weekend outings\n",
      "            Name: Family Fun Brunch Day\n",
      "            Message: Create lasting memories with our budget-friendly $9.99 full breakfast combo, perfect for families!\n",
      "            Concept: Host a special Family Fun Day every Saturday where kids eat free with the purchase of an adult breakfast combo. Include fun activities like face painting or a small petting zoo to enhance the family outing experience.\n",
      "        \n",
      "\n",
      "\n",
      "            Idea 2:\n",
      "            Audience: Health-conscious individuals seeking nutritious, flavorful options\n",
      "            Name: Healthy Start Sundays\n",
      "            Message: Kickstart your week with our nutritious Mediterranean wrap, packed with fresh veggies and lean protein!\n",
      "            Concept: Promote a 'Healthy Start Sunday' where customers can enjoy a discount on the Mediterranean wrap when they order a drink. Share health tips and recipes on social media to engage health-conscious diners.\n",
      "        \n",
      "\n",
      "\n",
      "  \n"
     ]
    }
   ],
   "source": [
    "print(idea_text[:1000])"
   ]
  },
  {
   "cell_type": "code",
   "execution_count": 51,
   "metadata": {},
   "outputs": [],
   "source": [
    "from models import IdeaEvaluationOutput, IdeaEvaluation"
   ]
  },
  {
   "cell_type": "code",
   "execution_count": 49,
   "metadata": {},
   "outputs": [],
   "source": [
    "def evaluate_ideas(ideas: ProposedIdeasWrapper) -> IdeaEvaluationOutput:\n",
    "    idea_evaluation_full_prompt = idea_evaluation_prompt.format(\n",
    "        idea_text=format_ideas_for_evaluation(ideas)\n",
    "    )\n",
    "    messages = [\n",
    "        SystemMessage(content=\"You are a helpful assistant.\"),\n",
    "        HumanMessage(content=idea_evaluation_full_prompt)\n",
    "    ]\n",
    "    response = llm.invoke(messages)\n",
    "    return parser.parse(response.content)"
   ]
  },
  {
   "cell_type": "code",
   "execution_count": 50,
   "metadata": {},
   "outputs": [],
   "source": [
    "evaluated_ideas: IdeaEvaluationOutput = evaluate_ideas(parsed.ideas)"
   ]
  },
  {
   "cell_type": "markdown",
   "metadata": {},
   "source": [
    "Let's now review the ideas"
   ]
  },
  {
   "cell_type": "code",
   "execution_count": 55,
   "metadata": {},
   "outputs": [
    {
     "name": "stdout",
     "output_type": "stream",
     "text": [
      "Idea 1: Family Fun Brunch Day\n",
      "Audience Fit: 5\n",
      "Clarity: 5\n",
      "Creativity: 4\n",
      "Channel Suitability: 5\n",
      "Comments: This idea perfectly targets families looking for weekend outings with a clear message and engaging activities. The concept is creative and well-suited for social media promotion.\n",
      "==================================================\n",
      "Idea 2: Healthy Start Sundays\n",
      "Audience Fit: 5\n",
      "Clarity: 5\n",
      "Creativity: 4\n",
      "Channel Suitability: 4\n",
      "Comments: This campaign aligns well with health-conscious individuals and is clearly articulated. The idea of sharing health tips is creative, but the execution may be limited to social media and in-restaurant promotions.\n",
      "==================================================\n",
      "Idea 3: Brunch & Celebrate\n",
      "Audience Fit: 5\n",
      "Clarity: 5\n",
      "Creativity: 4\n",
      "Channel Suitability: 5\n",
      "Comments: This idea effectively targets social groups celebrating milestones. The concept is clear and encourages social media engagement, making it suitable for various marketing channels.\n",
      "==================================================\n",
      "Idea 4: Brunch Buddy Loyalty Program\n",
      "Audience Fit: 4\n",
      "Clarity: 5\n",
      "Creativity: 3\n",
      "Channel Suitability: 5\n",
      "Comments: While this loyalty program is clear and easy to understand, it may not be as exciting or creative as other ideas. However, it is well-suited for email marketing and in-store promotion.\n",
      "==================================================\n",
      "Idea 5: Weekend Brunch Specials\n",
      "Audience Fit: 4\n",
      "Clarity: 4\n",
      "Creativity: 3\n",
      "Channel Suitability: 4\n",
      "Comments: This idea appeals to both families and health-conscious diners, but it lacks a unique angle. The concept is clear, but it may not stand out in a crowded market.\n",
      "==================================================\n",
      "Idea 6: Brunch with a Cause\n",
      "Audience Fit: 5\n",
      "Clarity: 5\n",
      "Creativity: 5\n",
      "Channel Suitability: 5\n",
      "Comments: This campaign is highly engaging and appeals to social groups while supporting local charities. The clarity and creativity are strong, and it fits well with various marketing channels.\n",
      "==================================================\n",
      "Idea 7: Seasonal Flavor Fest\n",
      "Audience Fit: 4\n",
      "Clarity: 4\n",
      "Creativity: 4\n",
      "Channel Suitability: 4\n",
      "Comments: This idea targets both health-conscious individuals and families, promoting fresh ingredients. While it is clear and creative, it may require more specific marketing strategies to reach the audience effectively.\n",
      "==================================================\n"
     ]
    }
   ],
   "source": [
    "for i, evaluation in enumerate(evaluated_ideas.evaluations, 1):\n",
    "    print(f\"Idea {i}: {evaluation.idea_name}\")\n",
    "    print(f\"Audience Fit: {evaluation.audience_fit}\")\n",
    "    print(f\"Clarity: {evaluation.clarity}\")\n",
    "    print(f\"Creativity: {evaluation.creativity}\")\n",
    "    print(f\"Channel Suitability: {evaluation.channel_suitability}\")\n",
    "    print(f\"Comments: {evaluation.comments}\")\n",
    "    print(\"=\" * 50)"
   ]
  },
  {
   "cell_type": "markdown",
   "metadata": {},
   "source": [
    "Let's sort the ideas by score and then pick the highest-scoring idea."
   ]
  },
  {
   "cell_type": "code",
   "execution_count": 58,
   "metadata": {},
   "outputs": [],
   "source": [
    "def pick_highest_scoring_idea(\n",
    "    ideas: ProposedIdeasWrapper,\n",
    "    evaluations: IdeaEvaluationOutput\n",
    ") -> tuple[ProposedIdea, IdeaEvaluation]:\n",
    "    \"\"\"\n",
    "    Given a list of ideas and their evaluations, return the highest scoring idea and its evaluation.\n",
    "\n",
    "    Returns:\n",
    "        A tuple of (ProposedIdea, IdeaEvaluation)\n",
    "    \"\"\"\n",
    "    best_score = -1\n",
    "    best_idea = None\n",
    "    best_evaluation = None\n",
    "\n",
    "    idea_map = {idea.idea: idea for idea in ideas}\n",
    "\n",
    "    for evaluation in evaluations.evaluations:\n",
    "        total_score = (\n",
    "            evaluation.audience_fit +\n",
    "            evaluation.clarity +\n",
    "            evaluation.creativity +\n",
    "            evaluation.channel_suitability\n",
    "        )\n",
    "\n",
    "        if total_score > best_score:\n",
    "            best_score = total_score\n",
    "            best_idea = idea_map.get(evaluation.idea_name)\n",
    "            best_evaluation = evaluation\n",
    "\n",
    "    if best_idea is None or best_evaluation is None:\n",
    "        raise ValueError(\"No matching idea found for highest scoring evaluation.\")\n",
    "\n",
    "    return best_idea, best_evaluation"
   ]
  },
  {
   "cell_type": "code",
   "execution_count": 60,
   "metadata": {},
   "outputs": [],
   "source": [
    "best_idea, best_evaluation = pick_highest_scoring_idea(\n",
    "    ideas=generated_ideas,\n",
    "    evaluations=evaluated_ideas\n",
    ")"
   ]
  },
  {
   "cell_type": "code",
   "execution_count": 61,
   "metadata": {},
   "outputs": [
    {
     "name": "stdout",
     "output_type": "stream",
     "text": [
      "Best idea: Brunch with a Cause\n",
      "Best evaluation:\n",
      "\n",
      "Audience Fit: 5\n",
      "Clarity: 5\n",
      "Creativity: 5\n",
      "Channel Suitability: 5\n",
      "Comments: This campaign is highly engaging and appeals to social groups while supporting local charities. The clarity and creativity are strong, and it fits well with various marketing channels.\n"
     ]
    }
   ],
   "source": [
    "print(f\"Best idea: {best_idea.idea}\")\n",
    "print(f\"Best evaluation:\\n\")\n",
    "print(f\"Audience Fit: {best_evaluation.audience_fit}\")\n",
    "print(f\"Clarity: {best_evaluation.clarity}\")\n",
    "print(f\"Creativity: {best_evaluation.creativity}\")\n",
    "print(f\"Channel Suitability: {best_evaluation.channel_suitability}\")\n",
    "print(f\"Comments: {best_evaluation.comments}\")"
   ]
  },
  {
   "cell_type": "markdown",
   "metadata": {},
   "source": [
    "Great! We now have a flow to (1) create new marketing ideas and (2) review the ideas and score them so that we can pick the best one.\n",
    "\n",
    "Some possible concepts we can explore later on are:\n",
    "1. Rewriting poor-rated ideas.\n",
    "2. Generating multiple variations of high-potential ideas to test tone, format, or messaging.\n",
    "3. See which ideas end up doing well, and then figure out what the best criteria to filter on are based on which of those ideas perform well.\n",
    "4. Honing the tone and branding based on past examples of copywriting.\n"
   ]
  },
  {
   "cell_type": "markdown",
   "metadata": {},
   "source": [
    "### 1c. Create an SEO-optimized blog post out of the idea.\n",
    "\n",
    "Given this idea, let's now create an SEO-optimized blog post."
   ]
  },
  {
   "cell_type": "code",
   "execution_count": 65,
   "metadata": {},
   "outputs": [
    {
     "data": {
      "text/plain": [
       "<module 'marketing_agent_examples.models' from '/Users/mark/Documents/work/demos/ai_agent_learning_examples/marketing_agent_examples/models.py'>"
      ]
     },
     "execution_count": 65,
     "metadata": {},
     "output_type": "execute_result"
    }
   ],
   "source": [
    "# optional code snippet to reload the models module if the\n",
    "# BlogPost import doesn't work. Jupyter notebooks can cache\n",
    "# module imports.\n",
    "import importlib\n",
    "import marketing_agent_examples.models\n",
    "\n",
    "# Force reload the module\n",
    "importlib.reload(marketing_agent_examples.models)\n"
   ]
  },
  {
   "cell_type": "code",
   "execution_count": 66,
   "metadata": {},
   "outputs": [],
   "source": [
    "from marketing_agent_examples.models import BlogPost\n",
    "from langchain.output_parsers import PydanticOutputParser\n",
    "\n",
    "parser = PydanticOutputParser(pydantic_object=BlogPost)\n",
    "\n",
    "blog_post_instructions = parser.get_format_instructions()"
   ]
  },
  {
   "cell_type": "code",
   "execution_count": 67,
   "metadata": {},
   "outputs": [],
   "source": [
    "blog_prompt = PromptTemplate(\n",
    "    template=\"\"\"\n",
    "        You are a content marketer creating a blog post for an American-style brunch restaurant.\n",
    "\n",
    "        Your job is to write an SEO-optimized blog post based on the following campaign idea:\n",
    "\n",
    "        <idea>\n",
    "        Name: {idea_name}\n",
    "        Target Audience: {audience}\n",
    "        Campaign Message: {message}\n",
    "        Concept: {concept}\n",
    "        </idea>\n",
    "\n",
    "        You must optimize this blog post for:\n",
    "        - **Search Engine Visibility**: Use high-intent brunch-related keywords naturally throughout.\n",
    "        - **Click-Through Rate**: Title and excerpt should be emotionally compelling, clear, and benefit-driven.\n",
    "        - **Engagement**: Structure the content with subheadings, short paragraphs, and a clear flow.\n",
    "        - **Audience Fit**: Make the tone match the specified audience. You may include humor, warmth, or health-focused language if appropriate.\n",
    "\n",
    "        Output Format:\n",
    "        {format_instructions}\n",
    "\n",
    "        Success is defined as:\n",
    "        - The title is both SEO-relevant and emotionally appealing.\n",
    "        - The excerpt would make a reader want to click through.\n",
    "        - The content clearly communicates the campaign idea while being useful, fun, and on-brand.\n",
    "        - Keywords are relevant and well-targeted to brunch-goers and local audiences.\n",
    "\"\"\",\n",
    "    input_variables=[\"idea_name\", \"audience\", \"message\", \"concept\"],\n",
    "    partial_variables={\"format_instructions\": parser.get_format_instructions()}\n",
    ")"
   ]
  },
  {
   "cell_type": "code",
   "execution_count": 68,
   "metadata": {},
   "outputs": [],
   "source": [
    "def create_blog_post(idea: ProposedIdea) -> BlogPost:\n",
    "    blog_post_full_prompt = blog_prompt.format(\n",
    "        idea_name=idea.idea,\n",
    "        audience=idea.audience,\n",
    "        message=idea.campaign_message,\n",
    "        concept=idea.concept\n",
    "    )\n",
    "    messages = [\n",
    "        SystemMessage(content=\"You are a helpful assistant.\"),\n",
    "        HumanMessage(content=blog_post_full_prompt)\n",
    "    ]\n",
    "    response = llm.invoke(messages)\n",
    "    return parser.parse(response.content)"
   ]
  },
  {
   "cell_type": "code",
   "execution_count": 69,
   "metadata": {},
   "outputs": [],
   "source": [
    "blog_post: BlogPost = create_blog_post(best_idea)"
   ]
  },
  {
   "cell_type": "code",
   "execution_count": 70,
   "metadata": {},
   "outputs": [
    {
     "name": "stdout",
     "output_type": "stream",
     "text": [
      "Best idea: Brunch with a Cause\n",
      "Blog post:\n",
      "\n",
      "Title: Brunch with a Cause: Enjoy Delicious Food While Supporting Local Charities\n",
      "Slug: brunch-with-a-cause\n",
      "Excerpt: Join us for our monthly 'Brunch with a Cause' events! Gather your friends, indulge in an all-you-can-eat buffet, and make a difference in our community.\n",
      "Content: ### Gather for Good: Brunch with a Cause\n",
      "\n",
      "Are you ready to elevate your brunch game? At our restaurant, we believe that brunch is not just a meal; it’s a celebration of friendship, community, and giving back. That’s why we’re excited to introduce our **Brunch with a Cause** events! \n",
      "\n",
      "Every month, we invite you and your social brunch groups to join us for a delightful all-you-can-eat buffet, where a portion of the proceeds goes directly to a local charity. It’s the perfect way to enjoy a leisurely brunch while making a positive impact in our community.\n",
      "\n",
      "### Why Brunch with a Cause?\n",
      "Brunch is the ideal time to gather with friends, celebrate milestones, or simply enjoy a casual get-together. With our **Brunch with a Cause** initiative, you can do all that while supporting local charities that need our help. Whether you’re celebrating a birthday, a promotion, or just the joy of being together, you can feel good knowing that your brunch is making a difference.\n",
      "\n",
      "### What to Expect\n",
      "- **Delicious Food**: Indulge in a mouthwatering selection of brunch favorites, from fluffy pancakes and savory omelets to fresh fruit and artisanal pastries. Our all-you-can-eat buffet is designed to satisfy every palate!\n",
      "- **Community Spirit**: Each month, we partner with a different local charity, so you can learn about their mission and how your brunch helps them achieve their goals. It’s a great way to connect with your community and support causes you care about.\n",
      "- **Fun Atmosphere**: Enjoy a lively and welcoming environment where laughter and good vibes are always on the menu. Bring your friends, family, or coworkers, and make it a brunch to remember!\n",
      "\n",
      "### Join Us!\n",
      "Mark your calendars for our next **Brunch with a Cause** event! Check our website for dates and the featured charity of the month. Don’t miss out on the chance to enjoy great food, good company, and the satisfaction of giving back. \n",
      "\n",
      "### Spread the Word\n",
      "Help us make a bigger impact by sharing our **Brunch with a Cause** events with your friends and family. The more, the merrier! Together, we can create a community that thrives on kindness and support.\n",
      "\n",
      "So, what are you waiting for? Gather your brunch crew and join us for a delicious meal that does good. We can’t wait to see you there!\n",
      "Keywords: ['brunch with a cause', 'charity brunch', 'all-you-can-eat brunch', 'support local charities', 'brunch events', 'community brunch', 'social brunch gatherings', 'brunch for a cause']\n"
     ]
    }
   ],
   "source": [
    "print(f\"Best idea: {best_idea.idea}\")\n",
    "print(\"Blog post:\\n\")\n",
    "print(f\"Title: {blog_post.title}\")\n",
    "print(f\"Slug: {blog_post.slug}\")\n",
    "print(f\"Excerpt: {blog_post.excerpt}\")\n",
    "print(f\"Content: {blog_post.content}\")\n",
    "print(f\"Keywords: {blog_post.keywords}\")"
   ]
  },
  {
   "cell_type": "markdown",
   "metadata": {},
   "source": [
    "### 1d. Evaluate the blog post.\n",
    "\n",
    "Now that we have a blog post, let's ask the LLM to evaluate our blog post and score it.\n",
    "\n",
    "Let's score our blog post on these criteria:\n",
    "\n",
    "| Criterion                  | Description                                          |\n",
    "| -------------------------- | ---------------------------------------------------- |\n",
    "| **SEO Optimization** (0–5) | Keyword use, metadata presence, search relevance     |\n",
    "| **Clickability** (0–5)     | Emotional hook + clarity of title and excerpt        |\n",
    "| **Readability** (0–5)      | Structure, formatting, paragraph length, headings    |\n",
    "| **Audience Fit** (0–5)     | Language and tone tailored to the intended reader    |\n",
    "| **Content Quality** (0–5)  | Informative, engaging, clear                         |\n",
    "| **Comments**               | Summary of strengths and suggestions for improvement |\n"
   ]
  },
  {
   "cell_type": "code",
   "execution_count": 74,
   "metadata": {},
   "outputs": [
    {
     "data": {
      "text/plain": [
       "<module 'marketing_agent_examples.models' from '/Users/mark/Documents/work/demos/ai_agent_learning_examples/marketing_agent_examples/models.py'>"
      ]
     },
     "execution_count": 74,
     "metadata": {},
     "output_type": "execute_result"
    }
   ],
   "source": [
    "# optional code snippet to reload the models module if the\n",
    "# below import doesn't work. Jupyter notebooks can cache\n",
    "# module imports.\n",
    "import importlib\n",
    "import marketing_agent_examples.models\n",
    "\n",
    "# Force reload the module\n",
    "importlib.reload(marketing_agent_examples.models)\n"
   ]
  },
  {
   "cell_type": "code",
   "execution_count": 76,
   "metadata": {},
   "outputs": [],
   "source": [
    "from marketing_agent_examples.models import BlogPostEvaluation\n",
    "\n",
    "parser = PydanticOutputParser(pydantic_object=BlogPostEvaluation)\n",
    "\n",
    "blog_post_evaluation_instructions = parser.get_format_instructions()"
   ]
  },
  {
   "cell_type": "code",
   "execution_count": 77,
   "metadata": {},
   "outputs": [],
   "source": [
    "blog_post_evaluation_prompt = PromptTemplate(\n",
    "    template=\"\"\"\n",
    "        You are a senior SEO content editor evaluating a blog post for an American-style brunch restaurant.\n",
    "\n",
    "        Evaluate the post based on the following 5 criteria (0-5 scale):\n",
    "        - **SEO Optimization**: Does the post use relevant keywords naturally? Is the title and excerpt search-friendly? Are metadata fields filled?\n",
    "        - **Clickability**: Does the title and excerpt compel users to click? Is there emotional or benefit-driven language?\n",
    "        - **Readability**: Is the post well-structured with good formatting (headings, paragraph length, etc)?\n",
    "        - **Audience Fit**: Is the tone and language tailored to the intended audience?\n",
    "        - **Content Quality**: Is it engaging, informative, and clear?\n",
    "\n",
    "        Also provide 2-3 sentences of comments on strengths and areas for improvement.\n",
    "\n",
    "        Blog post to evaluate:\n",
    "\n",
    "        Title: {title}\n",
    "        Slug: {slug}\n",
    "        Excerpt: {excerpt}\n",
    "        Content: {content}\n",
    "        Keywords: {keywords}\n",
    "\n",
    "        {format_instructions}\n",
    "\"\"\",\n",
    "    input_variables=[\"title\", \"slug\", \"excerpt\", \"content\", \"keywords\"],\n",
    "    partial_variables={\"format_instructions\": parser.get_format_instructions()}\n",
    ")"
   ]
  },
  {
   "cell_type": "code",
   "execution_count": 78,
   "metadata": {},
   "outputs": [],
   "source": [
    "def evaluate_blog_post(blog_post: BlogPost):\n",
    "    prompt_text = blog_post_evaluation_prompt.format(\n",
    "        title=blog_post.title,\n",
    "        slug=blog_post.slug,\n",
    "        excerpt=blog_post.excerpt,\n",
    "        content=blog_post.content,\n",
    "        keywords=\", \".join(blog_post.keywords),\n",
    "    )\n",
    "\n",
    "    messages = [\n",
    "        SystemMessage(content=\"You are a helpful evaluator of marketing content.\"),\n",
    "        HumanMessage(content=prompt_text)\n",
    "    ]\n",
    "\n",
    "    response = llm(messages)\n",
    "    return parser.parse(response.content)"
   ]
  },
  {
   "cell_type": "code",
   "execution_count": 79,
   "metadata": {},
   "outputs": [],
   "source": [
    "blog_post_evaluation = evaluate_blog_post(blog_post)"
   ]
  },
  {
   "cell_type": "code",
   "execution_count": 81,
   "metadata": {},
   "outputs": [
    {
     "name": "stdout",
     "output_type": "stream",
     "text": [
      "Evaluation for our blog post:\n",
      "\n",
      "SEO Optimization: 4\n",
      "Clickability: 5\n",
      "Readability: 5\n",
      "Audience Fit: 5\n",
      "Content Quality: 4\n",
      "Comments: The blog post effectively uses relevant keywords related to brunch and charity, enhancing its SEO potential. The title and excerpt are compelling and emotionally engaging, encouraging clicks. The structure is clear and well-formatted, making it easy to read. However, the content could benefit from more specific details about the charities involved to enhance engagement.\n"
     ]
    }
   ],
   "source": [
    "print(\"Evaluation for our blog post:\\n\")\n",
    "print(f\"SEO Optimization: {blog_post_evaluation.seo_optimization}\")\n",
    "print(f\"Clickability: {blog_post_evaluation.clickability}\")\n",
    "print(f\"Readability: {blog_post_evaluation.readability}\")\n",
    "print(f\"Audience Fit: {blog_post_evaluation.audience_fit}\")\n",
    "print(f\"Content Quality: {blog_post_evaluation.content_quality}\")\n",
    "print(f\"Comments: {blog_post_evaluation.comments}\")"
   ]
  },
  {
   "cell_type": "markdown",
   "metadata": {},
   "source": [
    "### 1e. Create an email blast draft out of the blog post.\n",
    "\n",
    "Now let's create a draft of an email blast out of the blog post and the proposed idea."
   ]
  },
  {
   "cell_type": "code",
   "execution_count": 88,
   "metadata": {},
   "outputs": [
    {
     "data": {
      "text/plain": [
       "<module 'marketing_agent_examples.models' from '/Users/mark/Documents/work/demos/ai_agent_learning_examples/marketing_agent_examples/models.py'>"
      ]
     },
     "execution_count": 88,
     "metadata": {},
     "output_type": "execute_result"
    }
   ],
   "source": [
    "# optional code snippet to reload the models module if the\n",
    "# below import doesn't work. Jupyter notebooks can cache\n",
    "# module imports.\n",
    "import importlib\n",
    "import marketing_agent_examples.models\n",
    "\n",
    "# Force reload the module\n",
    "importlib.reload(marketing_agent_examples.models)"
   ]
  },
  {
   "cell_type": "code",
   "execution_count": 89,
   "metadata": {},
   "outputs": [],
   "source": [
    "from marketing_agent_examples.models import EmailBlastDraft\n",
    "\n",
    "parser = PydanticOutputParser(pydantic_object=EmailBlastDraft)\n",
    "\n",
    "email_blast_instructions = parser.get_format_instructions()\n"
   ]
  },
  {
   "cell_type": "code",
   "execution_count": 86,
   "metadata": {},
   "outputs": [],
   "source": [
    "email_blast_draft_prompt = PromptTemplate(\n",
    "    template=\"\"\"\n",
    "        You are an email marketing expert creating a launch email for a brunch restaurant's new campaign.\n",
    "\n",
    "        You are provided with:\n",
    "        <idea>\n",
    "        Name: {idea_name}\n",
    "        Audience: {audience}\n",
    "        Campaign Message: {campaign_message}\n",
    "        Concept: {concept}\n",
    "        </idea>\n",
    "\n",
    "        <blog_post>\n",
    "        Title: {title}\n",
    "        Excerpt: {excerpt}\n",
    "        Content: {content}\n",
    "        Keywords: {keywords}\n",
    "        </blog_post>\n",
    "\n",
    "        Write a short, emotionally engaging email blast targeted at the given audience. It should:\n",
    "        - Grab attention in the subject line and preview text\n",
    "        - Use a warm, persuasive tone that matches the audience\n",
    "        - Summarize the blog post clearly and concisely\n",
    "        - Lead to a strong call to action (CTA)\n",
    "        - Be optimized for both desktop and mobile readers\n",
    "\n",
    "        {format_instructions}\n",
    "\n",
    "        Also include an explanation of why this CTA was chosen for this audience and what kind of behavioral response is expected.\n",
    "\"\"\",\n",
    "    input_variables=[\"idea_name\", \"audience\", \"campaign_message\", \"concept\", \"title\", \"excerpt\", \"content\", \"keywords\"],\n",
    "    partial_variables={\"format_instructions\": parser.get_format_instructions()}\n",
    ")"
   ]
  },
  {
   "cell_type": "code",
   "execution_count": 90,
   "metadata": {},
   "outputs": [],
   "source": [
    "def generate_email_blast_draft(idea: ProposedIdea, blog_post: BlogPost) -> EmailBlastDraft:\n",
    "    prompt_text = email_blast_draft_prompt.format(\n",
    "        idea_name=idea.idea,\n",
    "        audience=idea.audience,\n",
    "        campaign_message=idea.campaign_message,\n",
    "        concept=idea.concept,\n",
    "        title=blog_post.title,\n",
    "        excerpt=blog_post.excerpt,\n",
    "        content=blog_post.content,\n",
    "        keywords=\", \".join(blog_post.keywords)\n",
    "    )\n",
    "\n",
    "    messages = [\n",
    "        SystemMessage(content=\"You are a skilled marketing copywriter and strategist.\"),\n",
    "        HumanMessage(content=prompt_text)\n",
    "    ]\n",
    "\n",
    "    response = llm(messages)\n",
    "    return parser.parse(response.content)"
   ]
  },
  {
   "cell_type": "code",
   "execution_count": 91,
   "metadata": {},
   "outputs": [],
   "source": [
    "email_blast_draft: EmailBlastDraft = generate_email_blast_draft(\n",
    "    idea=best_idea,\n",
    "    blog_post=blog_post\n",
    ")"
   ]
  },
  {
   "cell_type": "code",
   "execution_count": 98,
   "metadata": {},
   "outputs": [
    {
     "name": "stdout",
     "output_type": "stream",
     "text": [
      "Email blast draft:\n",
      "\n",
      "Subject line: Brunch with a Cause: Eat, Celebrate, and Give Back!\n",
      "Preview text: Join us for a delicious brunch that supports local charities. Gather your friends for a good cause!\n",
      "Body: <p>Dear Brunch Lovers,</p> <p>Are you ready to make your brunch plans even more meaningful? Join us for our exciting <strong>Brunch with a Cause</strong> events, where every bite helps support local charities!</p> <p>Gather your friends and indulge in our all-you-can-eat buffet filled with mouthwatering brunch favorites. Each month, a portion of the proceeds goes directly to a different local charity, allowing you to enjoy a delightful meal while making a positive impact in our community.</p> <p>Whether you're celebrating a special milestone or just enjoying a casual get-together, our brunch is the perfect way to connect with friends and give back. Plus, you'll learn about the amazing work our featured charities are doing!</p> <p>Mark your calendars and check our website for the next event date and featured charity. Together, we can create a community that thrives on kindness and support.</p> <p>We can't wait to see you there!</p>\n",
      "Call to action: Join Us for Brunch!\n",
      "Explanation: This CTA was chosen to encourage immediate action from the audience, inviting them to participate in a fun and meaningful event. By using 'Join Us for Brunch!', we create a sense of community and urgency, appealing to their desire to gather with friends while supporting a good cause. The expected response is for recipients to click through to our website to learn more about the event and make reservations.\n"
     ]
    }
   ],
   "source": [
    "print(\"Email blast draft:\\n\")\n",
    "print(f\"Subject line: {email_blast_draft.subject_line}\")\n",
    "print(f\"Preview text: {email_blast_draft.preview_text}\")\n",
    "print(f\"Body: {email_blast_draft.body}\")\n",
    "print(f\"Call to action: {email_blast_draft.call_to_action}\")\n",
    "print(f\"Explanation: {email_blast_draft.explanation}\")"
   ]
  },
  {
   "cell_type": "markdown",
   "metadata": {},
   "source": [
    "### 1f. Evaluate the email blast draft.\n",
    "\n",
    "Now that we have an email blast draft, let's ask the LLM to evaluate the draft and score it.\n",
    "\n",
    "Let's score our email draft on these criteria:\n",
    "\n",
    "| Criterion                       | Description                                                            |\n",
    "| ------------------------------- | ---------------------------------------------------------------------- |\n",
    "| **Subject Effectiveness (0–5)** | Is the subject line engaging, clear, and likely to get opened?         |\n",
    "| **Preview Quality (0–5)**       | Does the preview text create curiosity and complement the subject?     |\n",
    "| **Message Clarity (0–5)**       | Is the main content easy to understand and well-structured?            |\n",
    "| **CTA Strength (0–5)**          | Is the call-to-action clear, relevant, and motivating?                 |\n",
    "| **Tone Fit (0–5)**              | Does the tone align with the intended audience from the original idea? |\n",
    "| **Overall Comments**            | Short notes on strengths and weaknesses                                |\n"
   ]
  },
  {
   "cell_type": "code",
   "execution_count": 99,
   "metadata": {},
   "outputs": [
    {
     "data": {
      "text/plain": [
       "<module 'marketing_agent_examples.models' from '/Users/mark/Documents/work/demos/ai_agent_learning_examples/marketing_agent_examples/models.py'>"
      ]
     },
     "execution_count": 99,
     "metadata": {},
     "output_type": "execute_result"
    }
   ],
   "source": [
    "# optional code snippet to reload the models module if the\n",
    "# below import doesn't work. Jupyter notebooks can cache\n",
    "# module imports.\n",
    "import importlib\n",
    "import marketing_agent_examples.models\n",
    "\n",
    "# Force reload the module\n",
    "importlib.reload(marketing_agent_examples.models)"
   ]
  },
  {
   "cell_type": "code",
   "execution_count": 100,
   "metadata": {},
   "outputs": [],
   "source": [
    "from marketing_agent_examples.models import EmailBlastDraftEvaluation\n",
    "\n",
    "parser = PydanticOutputParser(pydantic_object=EmailBlastDraftEvaluation)\n",
    "\n",
    "email_blast_draft_evaluation_instructions = parser.get_format_instructions()"
   ]
  },
  {
   "cell_type": "code",
   "execution_count": 101,
   "metadata": {},
   "outputs": [],
   "source": [
    "email_blast_draft_evaluation_prompt = PromptTemplate(\n",
    "    template=\"\"\"\n",
    "        You are a senior email marketing strategist evaluating the quality of a marketing email blast.\n",
    "\n",
    "        Evaluate the email based on the following criteria (0-5 scale):\n",
    "\n",
    "        - **Subject Effectiveness**: Is the subject line likely to drive opens?\n",
    "        - **Preview Quality**: Does the preview text complement the subject and generate curiosity?\n",
    "        - **Message Clarity**: Is the message clear, persuasive, and well-structured?\n",
    "        - **CTA Strength**: Is the call-to-action obvious, relevant, and likely to convert?\n",
    "        - **Tone Fit**: Does the tone match the target audience and campaign intent?\n",
    "\n",
    "        Also provide 2-3 sentences of overall comments on strengths and areas for improvement.\n",
    "\n",
    "        Here is the email blast to evaluate:\n",
    "\n",
    "        Subject: {subject_line}  \n",
    "        Preview: {preview_text}  \n",
    "        Body: {body}  \n",
    "        Call to Action: {cta}  \n",
    "        Explanation: {explanation}\n",
    "\n",
    "        {format_instructions}\n",
    "\"\"\",\n",
    "    input_variables=[\"subject_line\", \"preview_text\", \"body\", \"cta\", \"explanation\"],\n",
    "    partial_variables={\"format_instructions\": parser.get_format_instructions()}\n",
    ")"
   ]
  },
  {
   "cell_type": "code",
   "execution_count": 102,
   "metadata": {},
   "outputs": [],
   "source": [
    "def evaluate_email_blast_draft(email_blast: EmailBlastDraft) -> EmailBlastDraftEvaluation:\n",
    "    prompt_text = email_blast_draft_evaluation_prompt.format(\n",
    "        subject_line=email_blast.subject_line,\n",
    "        preview_text=email_blast.preview_text,\n",
    "        body=email_blast.body,\n",
    "        cta=email_blast.call_to_action,\n",
    "        explanation=email_blast.explanation\n",
    "    )\n",
    "\n",
    "    messages = [\n",
    "        SystemMessage(content=\"You are a helpful evaluator of email marketing content.\"),\n",
    "        HumanMessage(content=prompt_text)\n",
    "    ]\n",
    "\n",
    "    response = llm(messages)\n",
    "    return parser.parse(response.content)"
   ]
  },
  {
   "cell_type": "code",
   "execution_count": 103,
   "metadata": {},
   "outputs": [],
   "source": [
    "email_blast_draft_evaluation: EmailBlastDraftEvaluation = evaluate_email_blast_draft(email_blast_draft)"
   ]
  },
  {
   "cell_type": "code",
   "execution_count": 104,
   "metadata": {},
   "outputs": [
    {
     "name": "stdout",
     "output_type": "stream",
     "text": [
      "Evaluation for our email blast draft:\n",
      "\n",
      "Subject Effectiveness: 4\n",
      "Preview Quality: 4\n",
      "Message Clarity: 5\n",
      "CTA Strength: 4\n",
      "Tone Fit: 5\n",
      "Comments: The email effectively captures attention with a compelling subject line and engaging preview text that highlights the charitable aspect of the event. The message is clear and well-structured, making it easy for readers to understand the purpose and details of the brunch. However, the CTA could be slightly more urgent to enhance conversion potential.\n"
     ]
    }
   ],
   "source": [
    "print(\"Evaluation for our email blast draft:\\n\")\n",
    "print(f\"Subject Effectiveness: {email_blast_draft_evaluation.subject_effectiveness}\")\n",
    "print(f\"Preview Quality: {email_blast_draft_evaluation.preview_quality}\")\n",
    "print(f\"Message Clarity: {email_blast_draft_evaluation.message_clarity}\")\n",
    "print(f\"CTA Strength: {email_blast_draft_evaluation.cta_strength}\")\n",
    "print(f\"Tone Fit: {email_blast_draft_evaluation.tone_fit}\")\n",
    "print(f\"Comments: {email_blast_draft_evaluation.comments}\")"
   ]
  },
  {
   "cell_type": "markdown",
   "metadata": {},
   "source": [
    "### 1g. Create social media posts.\n",
    "\n",
    "Now, given our email blast draft, blog post, and the idea for the campaign, let's draft some social media posts.\n",
    "\n"
   ]
  },
  {
   "cell_type": "code",
   "execution_count": 105,
   "metadata": {},
   "outputs": [
    {
     "data": {
      "text/plain": [
       "<module 'marketing_agent_examples.models' from '/Users/mark/Documents/work/demos/ai_agent_learning_examples/marketing_agent_examples/models.py'>"
      ]
     },
     "execution_count": 105,
     "metadata": {},
     "output_type": "execute_result"
    }
   ],
   "source": [
    "# optional code snippet to reload the models module if the\n",
    "# below import doesn't work. Jupyter notebooks can cache\n",
    "# module imports.\n",
    "import importlib\n",
    "import marketing_agent_examples.models\n",
    "\n",
    "# Force reload the module\n",
    "importlib.reload(marketing_agent_examples.models)"
   ]
  },
  {
   "cell_type": "code",
   "execution_count": 106,
   "metadata": {},
   "outputs": [],
   "source": [
    "from marketing_agent_examples.models import SocialMediaPost, SocialMediaPostsWrapper\n",
    "\n",
    "parser = PydanticOutputParser(pydantic_object=SocialMediaPostsWrapper)\n",
    "\n",
    "social_media_posts_instructions = parser.get_format_instructions()"
   ]
  },
  {
   "cell_type": "code",
   "execution_count": 107,
   "metadata": {},
   "outputs": [],
   "source": [
    "social_media_posts_prompt = PromptTemplate(\n",
    "    template=\"\"\"\n",
    "        You are a social media strategist creating platform-specific posts for an American-style brunch restaurant.\n",
    "\n",
    "        You are given:\n",
    "        <idea>\n",
    "        Name: {idea_name}\n",
    "        Audience: {audience}\n",
    "        Message: {campaign_message}\n",
    "        Concept: {concept}\n",
    "        </idea>\n",
    "\n",
    "        <blog_post>\n",
    "        Title: {title}\n",
    "        Excerpt: {excerpt}\n",
    "        Content: {content}\n",
    "        Keywords: {keywords}\n",
    "        </blog_post>\n",
    "\n",
    "        <email_blast>\n",
    "        Subject: {subject_line}\n",
    "        Preview: {preview_text}\n",
    "        Body: {body}\n",
    "        Call to Action: {call_to_action}\n",
    "        </email_blast>\n",
    "\n",
    "        Create {num_posts} social media posts that are:\n",
    "        - Optimized for either Facebook or Instagram\n",
    "        - Tailored to the campaign audience\n",
    "        - Emotionally compelling, easy to skim, and visually suggestive\n",
    "        - Short enough for quick consumption\n",
    "        - Include relevant and popular hashtags\n",
    "        - Include the *intended ad targeting audience* (e.g., young professionals in urban areas, families with kids, health-conscious millennials, etc.)\n",
    "\n",
    "        Output format:\n",
    "        {format_instructions}\n",
    "\"\"\",\n",
    "    input_variables=[\n",
    "        \"idea_name\", \"audience\", \"campaign_message\", \"concept\",\n",
    "        \"title\", \"excerpt\", \"content\", \"keywords\",\n",
    "        \"subject_line\", \"preview_text\", \"body\", \"call_to_action\",\n",
    "        \"num_posts\"\n",
    "    ],\n",
    "    partial_variables={\"format_instructions\": parser.get_format_instructions()}\n",
    ")"
   ]
  },
  {
   "cell_type": "code",
   "execution_count": 109,
   "metadata": {},
   "outputs": [],
   "source": [
    "def generate_social_media_posts(\n",
    "    idea: ProposedIdea,\n",
    "    blog_post: BlogPost,\n",
    "    email_blast: EmailBlastDraft,\n",
    "    num_posts: int = 10\n",
    "):\n",
    "    prompt_text = social_media_posts_prompt.format(\n",
    "        idea_name=idea.idea,\n",
    "        audience=idea.audience,\n",
    "        campaign_message=idea.campaign_message,\n",
    "        concept=idea.concept,\n",
    "        title=blog_post.title,\n",
    "        excerpt=blog_post.excerpt,\n",
    "        content=blog_post.content,\n",
    "        keywords=\", \".join(blog_post.keywords),\n",
    "        subject_line=email_blast.subject_line,\n",
    "        preview_text=email_blast.preview_text,\n",
    "        body=email_blast.body,\n",
    "        call_to_action=email_blast.call_to_action,\n",
    "        num_posts=num_posts\n",
    "    )\n",
    "\n",
    "    messages = [\n",
    "        SystemMessage(content=\"You are a professional social media copywriter.\"),\n",
    "        HumanMessage(content=prompt_text)\n",
    "    ]\n",
    "\n",
    "    response = llm(messages)\n",
    "    return parser.parse(response.content)\n"
   ]
  },
  {
   "cell_type": "code",
   "execution_count": 110,
   "metadata": {},
   "outputs": [],
   "source": [
    "social_media_posts: SocialMediaPostsWrapper = generate_social_media_posts(\n",
    "    idea=best_idea,\n",
    "    blog_post=blog_post,\n",
    "    email_blast=email_blast_draft,\n",
    "    num_posts=10\n",
    ")"
   ]
  },
  {
   "cell_type": "code",
   "execution_count": 111,
   "metadata": {},
   "outputs": [
    {
     "name": "stdout",
     "output_type": "stream",
     "text": [
      "Social media posts:\n",
      "\n",
      "Post 1:\n",
      "Platform: Instagram\n",
      "Content: 🥂 Gather your brunch crew and join us for our monthly **Brunch with a Cause**! Enjoy an all-you-can-eat buffet while supporting local charities. Every bite makes a difference! 💖 #BrunchWithACause #SupportLocal #BrunchGoals\n",
      "Hashtags: #BrunchWithACause, #SupportLocal, #BrunchGoals, #CommunityLove, #EatForACause\n",
      "Intended Audience: Social brunch groups celebrating milestones or gathering casually\n",
      "==================================================\n",
      "Post 2:\n",
      "Platform: Facebook\n",
      "Content: 🌟 Celebrate friendship and give back at our **Brunch with a Cause**! Join us for delicious food and support local charities. Together, we can make a difference! 🍽️❤️ #BrunchForACause #CommunitySpirit\n",
      "Hashtags: #BrunchForACause, #CommunitySpirit, #GoodEats, #CharityBrunch\n",
      "Intended Audience: Social brunch groups celebrating milestones or gathering casually\n",
      "==================================================\n",
      "Post 3:\n",
      "Platform: Instagram\n",
      "Content: 🥞 Fluffy pancakes, savory omelets, and a cause worth supporting! Join us for our **Brunch with a Cause** and enjoy a meal that gives back. 🌈 #BrunchWithACause #EatDrinkGiveBack\n",
      "Hashtags: #BrunchWithACause, #EatDrinkGiveBack, #BrunchVibes, #Foodie\n",
      "Intended Audience: Social brunch groups celebrating milestones or gathering casually\n",
      "==================================================\n",
      "Post 4:\n",
      "Platform: Facebook\n",
      "Content: 🎉 Mark your calendars! Our next **Brunch with a Cause** is just around the corner. Enjoy a delicious meal while supporting local charities. Let’s make a difference together! 🥳 #BrunchForACause #SupportLocal\n",
      "Hashtags: #BrunchForACause, #SupportLocal, #BrunchTime, #Community\n",
      "Intended Audience: Social brunch groups celebrating milestones or gathering casually\n",
      "==================================================\n",
      "Post 5:\n",
      "Platform: Instagram\n",
      "Content: 💖 Brunch is better when it’s for a cause! Join us for our **Brunch with a Cause** and enjoy an all-you-can-eat buffet while supporting local charities. Bring your friends! 🍳🥂 #BrunchWithACause #GoodFoodGoodCause\n",
      "Hashtags: #BrunchWithACause, #GoodFoodGoodCause, #BrunchSquad, #Charity\n",
      "Intended Audience: Social brunch groups celebrating milestones or gathering casually\n",
      "==================================================\n",
      "Post 6:\n",
      "Platform: Facebook\n",
      "Content: 🥂 Join us for a brunch that matters! Our **Brunch with a Cause** events support local charities while you enjoy a delicious meal with friends. Let’s make a difference together! 🌟 #BrunchForACause #CommunityLove\n",
      "Hashtags: #BrunchForACause, #CommunityLove, #EatForACause, #BrunchLife\n",
      "Intended Audience: Social brunch groups celebrating milestones or gathering casually\n",
      "==================================================\n",
      "Post 7:\n",
      "Platform: Instagram\n",
      "Content: 🍽️ Ready for a brunch that gives back? Join us for our **Brunch with a Cause**! Enjoy an all-you-can-eat buffet and support local charities. Together, we can make a difference! 💕 #BrunchWithACause #SupportLocal\n",
      "Hashtags: #BrunchWithACause, #SupportLocal, #BrunchGoals, #FoodForGood\n",
      "Intended Audience: Social brunch groups celebrating milestones or gathering casually\n",
      "==================================================\n",
      "Post 8:\n",
      "Platform: Facebook\n",
      "Content: 🌈 Celebrate milestones and support local charities at our **Brunch with a Cause**! Enjoy delicious food and make a positive impact in our community. Join us! 🎊 #BrunchForACause #CommunitySpirit\n",
      "Hashtags: #BrunchForACause, #CommunitySpirit, #GoodEats, #CharityBrunch\n",
      "Intended Audience: Social brunch groups celebrating milestones or gathering casually\n",
      "==================================================\n",
      "Post 9:\n",
      "Platform: Instagram\n",
      "Content: 🥳 Gather your friends for a brunch that makes a difference! Join us for our **Brunch with a Cause** and enjoy a delicious meal while supporting local charities. Let’s brunch for a cause! 🍳❤️ #BrunchWithACause #EatDrinkGiveBack\n",
      "Hashtags: #BrunchWithACause, #EatDrinkGiveBack, #BrunchVibes, #Foodie\n",
      "Intended Audience: Social brunch groups celebrating milestones or gathering casually\n",
      "==================================================\n"
     ]
    }
   ],
   "source": [
    "print(\"Social media posts:\\n\")\n",
    "for i, post in enumerate(social_media_posts.posts):\n",
    "    print(f\"Post {i+1}:\")\n",
    "    print(f\"Platform: {post.platform}\")\n",
    "    print(f\"Content: {post.content}\")\n",
    "    print(f\"Hashtags: {', '.join(post.hashtags)}\")\n",
    "    print(f\"Intended Audience: {post.intended_audience}\")\n",
    "    print(\"=\"*50)"
   ]
  },
  {
   "cell_type": "markdown",
   "metadata": {},
   "source": [
    "Now we've been able to create social media posts."
   ]
  },
  {
   "cell_type": "markdown",
   "metadata": {},
   "source": [
    "### 1h. Evaluate the social media posts."
   ]
  },
  {
   "cell_type": "markdown",
   "metadata": {},
   "source": [
    "### 1i. Chaining it all together.\n",
    "\n",
    "Let's now chain all of these responses together."
   ]
  },
  {
   "cell_type": "markdown",
   "metadata": {},
   "source": [
    "### 1j. Takeaways and possible next steps."
   ]
  },
  {
   "cell_type": "markdown",
   "metadata": {},
   "source": [
    "## 2. Parallelization\n",
    "\n",
    "(take the steps from above and pick some to rewrite or redo to include parallelization, and why to do parallelization in the first place. Should explain why parallelization is appropriate in some cases)."
   ]
  },
  {
   "cell_type": "markdown",
   "metadata": {},
   "source": [
    "## 3. Routing\n",
    "\n",
    "(take the steps from above and pick some to rewrite or redo to include routing, and why to do routing in the first place. Should explain why routing is appropriate in some cases)."
   ]
  },
  {
   "cell_type": "markdown",
   "metadata": {},
   "source": [
    "## 4. Orchestrator-subagents"
   ]
  },
  {
   "cell_type": "markdown",
   "metadata": {},
   "source": [
    "## 5. Evaluator-optimizer\n",
    "\n",
    "Note: an example could be having an agent rewrite posts (IDK if that's best here or somewhere else)."
   ]
  },
  {
   "cell_type": "markdown",
   "metadata": {},
   "source": [
    "## What's next?\n",
    "(suggestions for how to improve what we've built, e.g., evals, how to optimize, etc.)\n",
    "\n",
    "(could put this in a different Jupyter notebook TBH? Something about follow-ups? IDK if best here, since this would likely be generic across all workflows)"
   ]
  },
  {
   "cell_type": "markdown",
   "metadata": {},
   "source": []
  }
 ],
 "metadata": {
  "kernelspec": {
   "display_name": "ai_agent_learning_examples",
   "language": "python",
   "name": "python3"
  },
  "language_info": {
   "codemirror_mode": {
    "name": "ipython",
    "version": 3
   },
   "file_extension": ".py",
   "mimetype": "text/x-python",
   "name": "python",
   "nbconvert_exporter": "python",
   "pygments_lexer": "ipython3",
   "version": "3.12.11"
  }
 },
 "nbformat": 4,
 "nbformat_minor": 2
}
