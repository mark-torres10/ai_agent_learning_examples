{
 "cells": [
  {
   "cell_type": "markdown",
   "metadata": {},
   "source": [
    "# Basic agentic workflows, for a marketing agent use case\n",
    "\n",
    "This notebook walks through 3 simple multi-LLM workflows, with the use case of a marketing agent being the guiding example throughout.\n",
    "\n",
    "1. **Prompt-chaining**: Decompose a task into sequential subtasks, where eaech step builds on previous results.\n",
    "2. **Parallelization**: Distributes independent subtasks across multiple LLMs or concurrent processing.\n",
    "3. **Routing**: Dynamically selects specialized LLM paths based on input characteristics.\n",
    "\n",
    "Our motivating example will be creating a restaurant marketing AI agent that writes marketing copy across various mediums (email blast, blog post, social media). We'll see how each of these methods approaches this task."
   ]
  },
  {
   "cell_type": "markdown",
   "metadata": {},
   "source": [
    "#### Step 0: some setup"
   ]
  },
  {
   "cell_type": "code",
   "execution_count": 14,
   "metadata": {},
   "outputs": [
    {
     "name": "stdout",
     "output_type": "stream",
     "text": [
      "PYTHONPATH set to: /Users/mark/Documents/work/demos/ai_agent_learning_examples\n"
     ]
    }
   ],
   "source": [
    "import sys\n",
    "import os\n",
    "\n",
    "project_root = os.path.abspath(os.path.dirname(os.getcwd()))\n",
    "if project_root not in sys.path:\n",
    "    sys.path.insert(0, project_root)\n",
    "print(\"PYTHONPATH set to:\", project_root)"
   ]
  },
  {
   "cell_type": "code",
   "execution_count": 22,
   "metadata": {},
   "outputs": [
    {
     "name": "stdout",
     "output_type": "stream",
     "text": [
      "Python executable: /Users/mark/anaconda3/envs/ai_agent_learning_examples/bin/python\n",
      "\n",
      "Python path:\n",
      "  /Users/mark/Documents/work/demos/ai_agent_learning_examples\n",
      "\n",
      "Current working directory: /Users/mark/Documents/work/demos/ai_agent_learning_examples/marketing_agent_examples\n",
      "Directory contents:\n",
      "  0: models.py\n"
     ]
    }
   ],
   "source": [
    "import sys\n",
    "print(\"Python executable:\", sys.executable)\n",
    "print(\"\\nPython path:\")\n",
    "for i, path in enumerate(sys.path):\n",
    "    if i >= 1:\n",
    "        break\n",
    "    print(f\"  {path}\")\n",
    "\n",
    "print(f\"\\nCurrent working directory: {os.getcwd()}\")\n",
    "print(f\"Directory contents:\")\n",
    "import os\n",
    "for i, item in enumerate(os.listdir('.')):\n",
    "    if i >= 1:\n",
    "        break\n",
    "    print(f\"  {i}: {item}\")\n"
   ]
  },
  {
   "cell_type": "markdown",
   "metadata": {},
   "source": [
    "## 1. Prompt-chaining\n",
    "\n",
    "This method breaks down a task into a series of sequential subtasks, where each step builds on previous results.\n",
    "\n",
    "For our example, we can break down the marketing AI agent chain into each of these steps:\n",
    "\n",
    "1. Create the idea to promote.\n",
    "2. Evaluate and score the ideas. Then pick one to continue with.\n",
    "3. Expand the idea into a blog post.\n",
    "4. Score/evaluate the blog post.\n",
    "5. Summarize blog post for email.\n",
    "6. Score/evaluate the email-formatted result.\n",
    "7. Create social media captions.\n",
    "8. Score/evaluate the social media captions.\n",
    "\n",
    "Let's do each of these in turn."
   ]
  },
  {
   "cell_type": "markdown",
   "metadata": {},
   "source": [
    "### 1a. Create ideas for what to promote.\n",
    "\n",
    "Here, let's create a first pass of our prompt for our idea generation step."
   ]
  },
  {
   "cell_type": "code",
   "execution_count": 10,
   "metadata": {},
   "outputs": [],
   "source": [
    "idea_generation_prompt = \"\"\"\n",
    "You are a marketing agent. You are given a product and a target audience.\n",
    "You will generate a list of ideas for a marketing campaign.\n",
    "\n",
    "Client: American-style brunch restaurant.\n",
    "\n",
    "Product: Brunch menu. Things we want to promote include:\n",
    "- $9.99 full breakfast with coffee. Features 2 eggs, 3 pieces of bacon\n",
    "(or choice of meat), potatoes, fresh fruit, and coffee.\n",
    "- Hearty Mediterranean wrap for lunch\n",
    "- Popular $20.99 Sunday brunch buffet featuring full breakfast options\n",
    "(eggs, pancakes, waffles, bacon, sausage, hash browns, omelettes)\n",
    "and lunch options (salad bar, meats, etc.).\n",
    "\n",
    "Target audience:\n",
    "    - Families\n",
    "    - Health-minded individuals\n",
    "    - Brunch group gatherings\n",
    "\"\"\""
   ]
  },
  {
   "cell_type": "markdown",
   "metadata": {},
   "source": [
    "Let's actually pass this into an LLM to improve the prompt. We can use an LLM for this prompt improving task, and there are explicit tools like Claude's [prompt improver](https://docs.anthropic.com/en/docs/build-with-claude/prompt-engineering/prompt-improver) made for this task alone.\n",
    "\n",
    "Here's the improved version that ChatGPT gave me:\n"
   ]
  },
  {
   "cell_type": "code",
   "execution_count": 11,
   "metadata": {},
   "outputs": [],
   "source": [
    "idea_generation_prompt = \"\"\"\n",
    "You are an expert marketing agent helping a neighborhood American-style brunch restaurant design a creative and targeted marketing campaign. You will be given product offerings and a target audience. Your job is to generate 5–7 campaign ideas that highlight the value of the offerings and appeal to the specific interests of the audience segments.\n",
    "\n",
    "Client: Independent American-style brunch restaurant known for quality and community.\n",
    "\n",
    "Product offerings to highlight:\n",
    "1. Budget-friendly $9.99 full breakfast combo — includes 2 eggs, choice of meat (bacon, sausage, or veggie patty), breakfast potatoes, fresh fruit, and coffee.\n",
    "2. Hearty and nutritious Mediterranean wrap — packed with veggies and lean protein, great for health-conscious diners.\n",
    "3. Popular $20.99 all-you-can-eat Sunday brunch buffet — includes full breakfast classics (eggs, pancakes, waffles, bacon, sausage, hash browns, omelets) and lunch options (salad bar, seasonal meats, and sides).\n",
    "\n",
    "Target audience:\n",
    "- Families looking for weekend outings\n",
    "- Health-conscious individuals seeking nutritious, flavorful options\n",
    "- Social brunch groups celebrating milestones or gathering casually\n",
    "\n",
    "Output:\n",
    "- A list of 5-7 specific marketing campaign ideas\n",
    "- Each idea should include a title and a 2-3 sentence explanation\n",
    "- Tailor each idea to one or more of the audience segments\n",
    "- Highlight value, experience, or emotional appeal\n",
    "\"\"\""
   ]
  },
  {
   "cell_type": "markdown",
   "metadata": {},
   "source": [
    "Let's also make sure that our prompt conforms to a specific format.\n"
   ]
  },
  {
   "cell_type": "code",
   "execution_count": 16,
   "metadata": {},
   "outputs": [],
   "source": [
    "from langchain.chat_models import ChatOpenAI\n",
    "from langchain.output_parsers import PydanticOutputParser\n",
    "from langchain.prompts import PromptTemplate\n",
    "from langchain.schema import SystemMessage, HumanMessage\n"
   ]
  },
  {
   "cell_type": "code",
   "execution_count": 17,
   "metadata": {},
   "outputs": [],
   "source": [
    "from marketing_agent_examples.models import ProposedIdeasWrapper\n",
    "\n",
    "parser = PydanticOutputParser(pydantic_object=ProposedIdeasWrapper)"
   ]
  },
  {
   "cell_type": "code",
   "execution_count": 23,
   "metadata": {},
   "outputs": [],
   "source": [
    "format_instructions = parser.get_format_instructions()\n",
    "\n",
    "prompt = PromptTemplate(\n",
    "    template=\"\"\"\n",
    "        {idea_generation_prompt}\n",
    "        {format_instructions}\n",
    "    \"\"\",\n",
    "    input_variables=[],\n",
    "    partial_variables={\n",
    "        \"format_instructions\": format_instructions,\n",
    "        \"idea_generation_prompt\": idea_generation_prompt\n",
    "    }\n",
    ")"
   ]
  },
  {
   "cell_type": "code",
   "execution_count": 24,
   "metadata": {},
   "outputs": [
    {
     "name": "stderr",
     "output_type": "stream",
     "text": [
      "/var/folders/9g/nhh_jmv17sd2604y43zdctzw0000gn/T/ipykernel_93715/940076340.py:1: LangChainDeprecationWarning: The class `ChatOpenAI` was deprecated in LangChain 0.0.10 and will be removed in 1.0. An updated version of the class exists in the :class:`~langchain-openai package and should be used instead. To use it run `pip install -U :class:`~langchain-openai` and import as `from :class:`~langchain_openai import ChatOpenAI``.\n",
      "  llm = ChatOpenAI(model=\"gpt-4o-mini\", temperature=0.0)\n"
     ]
    }
   ],
   "source": [
    "llm = ChatOpenAI(model=\"gpt-4o-mini\", temperature=0.0)"
   ]
  },
  {
   "cell_type": "code",
   "execution_count": 25,
   "metadata": {},
   "outputs": [],
   "source": [
    "messages = [\n",
    "    SystemMessage(content=\"You are a helpful assistant.\"),\n",
    "    HumanMessage(content=prompt.format())\n",
    "]"
   ]
  },
  {
   "cell_type": "markdown",
   "metadata": {},
   "source": [
    "Let's try this out and see what we get."
   ]
  },
  {
   "cell_type": "code",
   "execution_count": 26,
   "metadata": {},
   "outputs": [
    {
     "name": "stderr",
     "output_type": "stream",
     "text": [
      "/var/folders/9g/nhh_jmv17sd2604y43zdctzw0000gn/T/ipykernel_93715/3050779672.py:1: LangChainDeprecationWarning: The method `BaseChatModel.__call__` was deprecated in langchain-core 0.1.7 and will be removed in 1.0. Use :meth:`~invoke` instead.\n",
      "  response = llm(messages)\n"
     ]
    }
   ],
   "source": [
    "response = llm(messages)\n",
    "parsed = parser.parse(response.content)"
   ]
  },
  {
   "cell_type": "code",
   "execution_count": 35,
   "metadata": {},
   "outputs": [
    {
     "name": "stdout",
     "output_type": "stream",
     "text": [
      "\n",
      "=== Idea 1 ===\n",
      "Idea: Family Fun Brunch Day\n",
      "Audience: Families looking for weekend outings\n",
      "Campaign Message: Create lasting memories with our budget-friendly $9.99 full breakfast combo, perfect for families!\n",
      "==================================================\n",
      "\n",
      "=== Idea 2 ===\n",
      "Idea: Healthy Start Sundays\n",
      "Audience: Health-conscious individuals seeking nutritious, flavorful options\n",
      "Campaign Message: Kickstart your week with our nutritious Mediterranean wrap, packed with fresh veggies and lean protein!\n",
      "==================================================\n",
      "\n",
      "=== Idea 3 ===\n",
      "Idea: Brunch & Celebrate\n",
      "Audience: Social brunch groups celebrating milestones or gathering casually\n",
      "Campaign Message: Celebrate life’s moments with our all-you-can-eat Sunday brunch buffet, perfect for gatherings!\n",
      "==================================================\n",
      "\n",
      "=== Idea 4 ===\n",
      "Idea: Brunch Buddy Loyalty Program\n",
      "Audience: Families looking for weekend outings and social brunch groups\n",
      "Campaign Message: Join our Brunch Buddy Loyalty Program and earn rewards for every visit!\n",
      "==================================================\n",
      "\n",
      "=== Idea 5 ===\n",
      "Idea: Weekend Brunch Specials\n",
      "Audience: Families looking for weekend outings and health-conscious individuals\n",
      "Campaign Message: Enjoy our special weekend brunch menu featuring both hearty and healthy options!\n",
      "==================================================\n",
      "\n",
      "=== Idea 6 ===\n",
      "Idea: Brunch with a Cause\n",
      "Audience: Social brunch groups celebrating milestones or gathering casually\n",
      "Campaign Message: Gather your friends for brunch and support local charities with our Brunch with a Cause events!\n",
      "==================================================\n",
      "\n",
      "=== Idea 7 ===\n",
      "Idea: Seasonal Flavor Fest\n",
      "Audience: Health-conscious individuals and families looking for weekend outings\n",
      "Campaign Message: Experience the taste of the season with our fresh, flavorful brunch options!\n",
      "==================================================\n"
     ]
    }
   ],
   "source": [
    "generated_ideas: ProposedIdeasWrapper = parsed.ideas\n",
    "\n",
    "for i, idea in enumerate(generated_ideas, 1):\n",
    "    print(f\"\\n=== Idea {i} ===\")\n",
    "    print(f\"Idea: {idea.idea}\")\n",
    "    print(f\"Audience: {idea.audience}\")\n",
    "    print(f\"Campaign Message: {idea.campaign_message}\")\n",
    "    print(\"=\" * 50)"
   ]
  },
  {
   "cell_type": "markdown",
   "metadata": {},
   "source": [
    "### 1b. Evaluate the created ideas.\n",
    "\n",
    "Now that we have all of these ideas, let's ask the LLM to evaluate the ideas and help us pick the best one."
   ]
  },
  {
   "cell_type": "code",
   "execution_count": 33,
   "metadata": {},
   "outputs": [],
   "source": [
    "from models import IdeaEvaluationOutput\n",
    "from langchain.output_parsers import PydanticOutputParser\n",
    "\n",
    "parser = PydanticOutputParser(pydantic_object=IdeaEvaluationOutput)\n",
    "\n",
    "idea_evaluation_instructions = parser.get_format_instructions()"
   ]
  },
  {
   "cell_type": "code",
   "execution_count": 34,
   "metadata": {},
   "outputs": [],
   "source": [
    "idea_evaluation_prompt = PromptTemplate(\n",
    "    template=\"\"\"\n",
    "You are a senior marketing strategist evaluating proposed campaign ideas for an American-style brunch restaurant.\n",
    "\n",
    "Evaluate each idea on the following criteria (score from 0-5):\n",
    "- **Audience Fit**: Does it match the needs or preferences of the specified audience?\n",
    "- **Clarity**: Is the idea easy to understand and well-articulated?\n",
    "- **Creativity**: How original or compelling is the campaign concept?\n",
    "- **Channel Suitability**: Does the distribution method or concept fit real-world marketing channels (e.g., Instagram, flyers, email)?\n",
    "\n",
    "Also include brief **comments** on the strengths or weaknesses of each idea.\n",
    "\n",
    "Here are the proposed ideas to review:\n",
    "{idea_text}\n",
    "\n",
    "{evaluation_instructions}\n",
    "\"\"\",\n",
    "    input_variables=[\"idea_text\"],\n",
    "    partial_variables={\"evaluation_instructions\": idea_evaluation_instructions}\n",
    ")"
   ]
  },
  {
   "cell_type": "markdown",
   "metadata": {},
   "source": [
    "Let's now take our previous ideas from above and pass them into this prompt."
   ]
  },
  {
   "cell_type": "code",
   "execution_count": 39,
   "metadata": {},
   "outputs": [],
   "source": [
    "from marketing_agent_examples.models import ProposedIdea\n",
    "\n",
    "def format_ideas_for_evaluation(ideas: list[ProposedIdea]) -> str:\n",
    "    result = []\n",
    "    for i, idea in enumerate(ideas, 1):\n",
    "        result.append(f\"\"\"\n",
    "            Idea {i}:\n",
    "            Audience: {idea.audience}\n",
    "            Name: {idea.idea}\n",
    "            Message: {idea.campaign_message}\n",
    "            Concept: {idea.concept}\n",
    "        \"\"\"\n",
    "        )\n",
    "    return \"\\n\\n\".join(result)"
   ]
  },
  {
   "cell_type": "code",
   "execution_count": 40,
   "metadata": {},
   "outputs": [],
   "source": [
    "idea_text = format_ideas_for_evaluation(generated_ideas)"
   ]
  },
  {
   "cell_type": "code",
   "execution_count": 48,
   "metadata": {},
   "outputs": [
    {
     "name": "stdout",
     "output_type": "stream",
     "text": [
      "\n",
      "            Idea 1:\n",
      "            Audience: Families looking for weekend outings\n",
      "            Name: Family Fun Brunch Day\n",
      "            Message: Create lasting memories with our budget-friendly $9.99 full breakfast combo, perfect for families!\n",
      "            Concept: Host a special Family Fun Day every Saturday where kids eat free with the purchase of an adult breakfast combo. Include fun activities like face painting or a small petting zoo to enhance the family outing experience.\n",
      "        \n",
      "\n",
      "\n",
      "            Idea 2:\n",
      "            Audience: Health-conscious individuals seeking nutritious, flavorful options\n",
      "            Name: Healthy Start Sundays\n",
      "            Message: Kickstart your week with our nutritious Mediterranean wrap, packed with fresh veggies and lean protein!\n",
      "            Concept: Promote a 'Healthy Start Sunday' where customers can enjoy a discount on the Mediterranean wrap when they order a drink. Share health tips and recipes on social media to engage health-conscious diners.\n",
      "        \n",
      "\n",
      "\n",
      "  \n"
     ]
    }
   ],
   "source": [
    "print(idea_text[:1000])"
   ]
  },
  {
   "cell_type": "code",
   "execution_count": 51,
   "metadata": {},
   "outputs": [],
   "source": [
    "from models import IdeaEvaluationOutput, IdeaEvaluation"
   ]
  },
  {
   "cell_type": "code",
   "execution_count": 49,
   "metadata": {},
   "outputs": [],
   "source": [
    "def evaluate_ideas(ideas: ProposedIdeasWrapper) -> IdeaEvaluationOutput:\n",
    "    idea_evaluation_full_prompt = idea_evaluation_prompt.format(\n",
    "        idea_text=format_ideas_for_evaluation(ideas)\n",
    "    )\n",
    "    messages = [\n",
    "        SystemMessage(content=\"You are a helpful assistant.\"),\n",
    "        HumanMessage(content=idea_evaluation_full_prompt)\n",
    "    ]\n",
    "    response = llm.invoke(messages)\n",
    "    return parser.parse(response.content)"
   ]
  },
  {
   "cell_type": "code",
   "execution_count": 50,
   "metadata": {},
   "outputs": [],
   "source": [
    "evaluated_ideas: IdeaEvaluationOutput = evaluate_ideas(parsed.ideas)"
   ]
  },
  {
   "cell_type": "markdown",
   "metadata": {},
   "source": [
    "Let's now review the ideas"
   ]
  },
  {
   "cell_type": "code",
   "execution_count": 55,
   "metadata": {},
   "outputs": [
    {
     "name": "stdout",
     "output_type": "stream",
     "text": [
      "Idea 1: Family Fun Brunch Day\n",
      "Audience Fit: 5\n",
      "Clarity: 5\n",
      "Creativity: 4\n",
      "Channel Suitability: 5\n",
      "Comments: This idea perfectly targets families looking for weekend outings with a clear message and engaging activities. The concept is creative and well-suited for social media promotion.\n",
      "==================================================\n",
      "Idea 2: Healthy Start Sundays\n",
      "Audience Fit: 5\n",
      "Clarity: 5\n",
      "Creativity: 4\n",
      "Channel Suitability: 4\n",
      "Comments: This campaign aligns well with health-conscious individuals and is clearly articulated. The idea of sharing health tips is creative, but the execution may be limited to social media and in-restaurant promotions.\n",
      "==================================================\n",
      "Idea 3: Brunch & Celebrate\n",
      "Audience Fit: 5\n",
      "Clarity: 5\n",
      "Creativity: 4\n",
      "Channel Suitability: 5\n",
      "Comments: This idea effectively targets social groups celebrating milestones. The concept is clear and encourages social media engagement, making it suitable for various marketing channels.\n",
      "==================================================\n",
      "Idea 4: Brunch Buddy Loyalty Program\n",
      "Audience Fit: 4\n",
      "Clarity: 5\n",
      "Creativity: 3\n",
      "Channel Suitability: 5\n",
      "Comments: While this loyalty program is clear and easy to understand, it may not be as exciting or creative as other ideas. However, it is well-suited for email marketing and in-store promotion.\n",
      "==================================================\n",
      "Idea 5: Weekend Brunch Specials\n",
      "Audience Fit: 4\n",
      "Clarity: 4\n",
      "Creativity: 3\n",
      "Channel Suitability: 4\n",
      "Comments: This idea appeals to both families and health-conscious diners, but it lacks a unique angle. The concept is clear, but it may not stand out in a crowded market.\n",
      "==================================================\n",
      "Idea 6: Brunch with a Cause\n",
      "Audience Fit: 5\n",
      "Clarity: 5\n",
      "Creativity: 5\n",
      "Channel Suitability: 5\n",
      "Comments: This campaign is highly engaging and appeals to social groups while supporting local charities. The clarity and creativity are strong, and it fits well with various marketing channels.\n",
      "==================================================\n",
      "Idea 7: Seasonal Flavor Fest\n",
      "Audience Fit: 4\n",
      "Clarity: 4\n",
      "Creativity: 4\n",
      "Channel Suitability: 4\n",
      "Comments: This idea targets both health-conscious individuals and families, promoting fresh ingredients. While it is clear and creative, it may require more specific marketing strategies to reach the audience effectively.\n",
      "==================================================\n"
     ]
    }
   ],
   "source": [
    "for i, evaluation in enumerate(evaluated_ideas.evaluations, 1):\n",
    "    print(f\"Idea {i}: {evaluation.idea_name}\")\n",
    "    print(f\"Audience Fit: {evaluation.audience_fit}\")\n",
    "    print(f\"Clarity: {evaluation.clarity}\")\n",
    "    print(f\"Creativity: {evaluation.creativity}\")\n",
    "    print(f\"Channel Suitability: {evaluation.channel_suitability}\")\n",
    "    print(f\"Comments: {evaluation.comments}\")\n",
    "    print(\"=\" * 50)"
   ]
  },
  {
   "cell_type": "markdown",
   "metadata": {},
   "source": [
    "Let's sort the ideas by score and then pick the highest-scoring idea."
   ]
  },
  {
   "cell_type": "code",
   "execution_count": 58,
   "metadata": {},
   "outputs": [],
   "source": [
    "def pick_highest_scoring_idea(\n",
    "    ideas: ProposedIdeasWrapper,\n",
    "    evaluations: IdeaEvaluationOutput\n",
    ") -> tuple[ProposedIdea, IdeaEvaluation]:\n",
    "    \"\"\"\n",
    "    Given a list of ideas and their evaluations, return the highest scoring idea and its evaluation.\n",
    "\n",
    "    Returns:\n",
    "        A tuple of (ProposedIdea, IdeaEvaluation)\n",
    "    \"\"\"\n",
    "    best_score = -1\n",
    "    best_idea = None\n",
    "    best_evaluation = None\n",
    "\n",
    "    idea_map = {idea.idea: idea for idea in ideas}\n",
    "\n",
    "    for evaluation in evaluations.evaluations:\n",
    "        total_score = (\n",
    "            evaluation.audience_fit +\n",
    "            evaluation.clarity +\n",
    "            evaluation.creativity +\n",
    "            evaluation.channel_suitability\n",
    "        )\n",
    "\n",
    "        if total_score > best_score:\n",
    "            best_score = total_score\n",
    "            best_idea = idea_map.get(evaluation.idea_name)\n",
    "            best_evaluation = evaluation\n",
    "\n",
    "    if best_idea is None or best_evaluation is None:\n",
    "        raise ValueError(\"No matching idea found for highest scoring evaluation.\")\n",
    "\n",
    "    return best_idea, best_evaluation"
   ]
  },
  {
   "cell_type": "code",
   "execution_count": 60,
   "metadata": {},
   "outputs": [],
   "source": [
    "best_idea, best_evaluation = pick_highest_scoring_idea(\n",
    "    ideas=generated_ideas,\n",
    "    evaluations=evaluated_ideas\n",
    ")"
   ]
  },
  {
   "cell_type": "code",
   "execution_count": 61,
   "metadata": {},
   "outputs": [
    {
     "name": "stdout",
     "output_type": "stream",
     "text": [
      "Best idea: Brunch with a Cause\n",
      "Best evaluation:\n",
      "\n",
      "Audience Fit: 5\n",
      "Clarity: 5\n",
      "Creativity: 5\n",
      "Channel Suitability: 5\n",
      "Comments: This campaign is highly engaging and appeals to social groups while supporting local charities. The clarity and creativity are strong, and it fits well with various marketing channels.\n"
     ]
    }
   ],
   "source": [
    "print(f\"Best idea: {best_idea.idea}\")\n",
    "print(f\"Best evaluation:\\n\")\n",
    "print(f\"Audience Fit: {best_evaluation.audience_fit}\")\n",
    "print(f\"Clarity: {best_evaluation.clarity}\")\n",
    "print(f\"Creativity: {best_evaluation.creativity}\")\n",
    "print(f\"Channel Suitability: {best_evaluation.channel_suitability}\")\n",
    "print(f\"Comments: {best_evaluation.comments}\")"
   ]
  },
  {
   "cell_type": "markdown",
   "metadata": {},
   "source": [
    "Great! We now have a flow to (1) create new marketing ideas and (2) review the ideas and score them so that we can pick the best one.\n",
    "\n",
    "Some possible concepts we can explore later on are:\n",
    "1. Rewriting poor-rated ideas.\n",
    "2. Generating multiple variations of high-potential ideas to test tone, format, or messaging.\n",
    "3. See which ideas end up doing well, and then figure out what the best criteria to filter on are based on which of those ideas perform well.\n",
    "4. Honing the tone and branding based on past examples of copywriting.\n"
   ]
  },
  {
   "cell_type": "markdown",
   "metadata": {},
   "source": [
    "### 1c. Create an SEO-optimized blog post out of the idea.\n",
    "\n",
    "Given this idea, let's now create an SEO-optimized blog post."
   ]
  },
  {
   "cell_type": "code",
   "execution_count": 65,
   "metadata": {},
   "outputs": [
    {
     "data": {
      "text/plain": [
       "<module 'marketing_agent_examples.models' from '/Users/mark/Documents/work/demos/ai_agent_learning_examples/marketing_agent_examples/models.py'>"
      ]
     },
     "execution_count": 65,
     "metadata": {},
     "output_type": "execute_result"
    }
   ],
   "source": [
    "# optional code snippet to reload the models module if the\n",
    "# BlogPost import doesn't work. Jupyter notebooks can cache\n",
    "# module imports.\n",
    "import importlib\n",
    "import marketing_agent_examples.models\n",
    "\n",
    "# Force reload the module\n",
    "importlib.reload(marketing_agent_examples.models)\n"
   ]
  },
  {
   "cell_type": "code",
   "execution_count": 66,
   "metadata": {},
   "outputs": [],
   "source": [
    "from marketing_agent_examples.models import BlogPost\n",
    "from langchain.output_parsers import PydanticOutputParser\n",
    "\n",
    "parser = PydanticOutputParser(pydantic_object=BlogPost)\n",
    "\n",
    "blog_post_instructions = parser.get_format_instructions()"
   ]
  },
  {
   "cell_type": "code",
   "execution_count": 67,
   "metadata": {},
   "outputs": [],
   "source": [
    "blog_prompt = PromptTemplate(\n",
    "    template=\"\"\"\n",
    "        You are a content marketer creating a blog post for an American-style brunch restaurant.\n",
    "\n",
    "        Your job is to write an SEO-optimized blog post based on the following campaign idea:\n",
    "\n",
    "        <idea>\n",
    "        Name: {idea_name}\n",
    "        Target Audience: {audience}\n",
    "        Campaign Message: {message}\n",
    "        Concept: {concept}\n",
    "        </idea>\n",
    "\n",
    "        You must optimize this blog post for:\n",
    "        - **Search Engine Visibility**: Use high-intent brunch-related keywords naturally throughout.\n",
    "        - **Click-Through Rate**: Title and excerpt should be emotionally compelling, clear, and benefit-driven.\n",
    "        - **Engagement**: Structure the content with subheadings, short paragraphs, and a clear flow.\n",
    "        - **Audience Fit**: Make the tone match the specified audience. You may include humor, warmth, or health-focused language if appropriate.\n",
    "\n",
    "        Output Format:\n",
    "        {format_instructions}\n",
    "\n",
    "        Success is defined as:\n",
    "        - The title is both SEO-relevant and emotionally appealing.\n",
    "        - The excerpt would make a reader want to click through.\n",
    "        - The content clearly communicates the campaign idea while being useful, fun, and on-brand.\n",
    "        - Keywords are relevant and well-targeted to brunch-goers and local audiences.\n",
    "\"\"\",\n",
    "    input_variables=[\"idea_name\", \"audience\", \"message\", \"concept\"],\n",
    "    partial_variables={\"format_instructions\": parser.get_format_instructions()}\n",
    ")"
   ]
  },
  {
   "cell_type": "code",
   "execution_count": 68,
   "metadata": {},
   "outputs": [],
   "source": [
    "def create_blog_post(idea: ProposedIdea) -> BlogPost:\n",
    "    blog_post_full_prompt = blog_prompt.format(\n",
    "        idea_name=idea.idea,\n",
    "        audience=idea.audience,\n",
    "        message=idea.campaign_message,\n",
    "        concept=idea.concept\n",
    "    )\n",
    "    messages = [\n",
    "        SystemMessage(content=\"You are a helpful assistant.\"),\n",
    "        HumanMessage(content=blog_post_full_prompt)\n",
    "    ]\n",
    "    response = llm.invoke(messages)\n",
    "    return parser.parse(response.content)"
   ]
  },
  {
   "cell_type": "code",
   "execution_count": null,
   "metadata": {},
   "outputs": [],
   "source": [
    "blog_post: BlogPost = create_blog_post(best_idea)"
   ]
  },
  {
   "cell_type": "code",
   "execution_count": null,
   "metadata": {},
   "outputs": [],
   "source": [
    "print(f\"Best idea: {best_idea.idea}\")\n",
    "print(\"Blog post:\\n\")\n",
    "print(f\"Title: {blog_post.title}\")\n",
    "print(f\"Slug: {blog_post.slug}\")\n",
    "print(f\"Excerpt: {blog_post.excerpt}\")\n",
    "print(f\"Content: {blog_post.content}\")\n",
    "print(f\"Keywords: {blog_post.keywords}\")"
   ]
  },
  {
   "cell_type": "markdown",
   "metadata": {},
   "source": [
    "### 1d. Evaluate the blog post."
   ]
  },
  {
   "cell_type": "markdown",
   "metadata": {},
   "source": [
    "### 1e. Create an email blast draft out of the blog post."
   ]
  },
  {
   "cell_type": "markdown",
   "metadata": {},
   "source": [
    "### 1f. Evaluate the email blast draft."
   ]
  },
  {
   "cell_type": "markdown",
   "metadata": {},
   "source": [
    "### 1g. Create social media captions and copy out of the blog post and email."
   ]
  },
  {
   "cell_type": "markdown",
   "metadata": {},
   "source": [
    "### 1h. Evaluate the social media captions."
   ]
  },
  {
   "cell_type": "markdown",
   "metadata": {},
   "source": [
    "### 1i. Chaining it all together.\n",
    "\n",
    "Let's now chain all of these responses together."
   ]
  },
  {
   "cell_type": "markdown",
   "metadata": {},
   "source": [
    "### 1j. Takeaways and possible next steps."
   ]
  },
  {
   "cell_type": "markdown",
   "metadata": {},
   "source": [
    "## 2. Parallelization\n",
    "\n",
    "(take the steps from above and pick some to rewrite or redo to include parallelization, and why to do parallelization in the first place. Should explain why parallelization is appropriate in some cases)."
   ]
  },
  {
   "cell_type": "markdown",
   "metadata": {},
   "source": [
    "## 3. Routing\n",
    "\n",
    "(take the steps from above and pick some to rewrite or redo to include routing, and why to do routing in the first place. Should explain why routing is appropriate in some cases)."
   ]
  },
  {
   "cell_type": "markdown",
   "metadata": {},
   "source": [
    "## 4. Orchestrator-subagents"
   ]
  },
  {
   "cell_type": "markdown",
   "metadata": {},
   "source": [
    "## 5. Evaluator-optimizer\n",
    "\n",
    "Note: an example could be having an agent rewrite posts (IDK if that's best here or somewhere else)."
   ]
  },
  {
   "cell_type": "markdown",
   "metadata": {},
   "source": [
    "## What's next?\n",
    "(suggestions for how to improve what we've built, e.g., evals, how to optimize, etc.)\n",
    "\n",
    "(could put this in a different Jupyter notebook TBH? Something about follow-ups? IDK if best here, since this would likely be generic across all workflows)"
   ]
  },
  {
   "cell_type": "markdown",
   "metadata": {},
   "source": []
  }
 ],
 "metadata": {
  "kernelspec": {
   "display_name": "ai_agent_learning_examples",
   "language": "python",
   "name": "python3"
  },
  "language_info": {
   "codemirror_mode": {
    "name": "ipython",
    "version": 3
   },
   "file_extension": ".py",
   "mimetype": "text/x-python",
   "name": "python",
   "nbconvert_exporter": "python",
   "pygments_lexer": "ipython3",
   "version": "3.12.11"
  }
 },
 "nbformat": 4,
 "nbformat_minor": 2
}
