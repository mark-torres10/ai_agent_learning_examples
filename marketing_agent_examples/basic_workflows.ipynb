{
 "cells": [
  {
   "cell_type": "markdown",
   "metadata": {},
   "source": [
    "# Basic agentic workflows, for a marketing agent use case\n",
    "\n",
    "This notebook walks through 3 simple multi-LLM workflows, with the use case of a marketing agent being the guiding example throughout.\n",
    "\n",
    "1. **Prompt-chaining**: Decompose a task into sequential subtasks, where eaech step builds on previous results.\n",
    "2. **Parallelization**: Distributes independent subtasks across multiple LLMs or concurrent processing.\n",
    "3. **Routing**: Dynamically selects specialized LLM paths based on input characteristics.\n",
    "\n",
    "Our motivating example will be creating a restaurant marketing AI agent that writes marketing copy across various mediums (email blast, blog post, social media). We'll see how each of these methods approaches this task."
   ]
  },
  {
   "cell_type": "markdown",
   "metadata": {},
   "source": [
    "#### Step 0: some setup"
   ]
  },
  {
   "cell_type": "code",
   "execution_count": 14,
   "metadata": {},
   "outputs": [
    {
     "name": "stdout",
     "output_type": "stream",
     "text": [
      "PYTHONPATH set to: /Users/mark/Documents/work/demos/ai_agent_learning_examples\n"
     ]
    }
   ],
   "source": [
    "import sys\n",
    "import os\n",
    "\n",
    "project_root = os.path.abspath(os.path.dirname(os.getcwd()))\n",
    "if project_root not in sys.path:\n",
    "    sys.path.insert(0, project_root)\n",
    "print(\"PYTHONPATH set to:\", project_root)"
   ]
  },
  {
   "cell_type": "code",
   "execution_count": 22,
   "metadata": {},
   "outputs": [
    {
     "name": "stdout",
     "output_type": "stream",
     "text": [
      "Python executable: /Users/mark/anaconda3/envs/ai_agent_learning_examples/bin/python\n",
      "\n",
      "Python path:\n",
      "  /Users/mark/Documents/work/demos/ai_agent_learning_examples\n",
      "\n",
      "Current working directory: /Users/mark/Documents/work/demos/ai_agent_learning_examples/marketing_agent_examples\n",
      "Directory contents:\n",
      "  0: models.py\n"
     ]
    }
   ],
   "source": [
    "import sys\n",
    "print(\"Python executable:\", sys.executable)\n",
    "print(\"\\nPython path:\")\n",
    "for i, path in enumerate(sys.path):\n",
    "    if i >= 1:\n",
    "        break\n",
    "    print(f\"  {path}\")\n",
    "\n",
    "print(f\"\\nCurrent working directory: {os.getcwd()}\")\n",
    "print(f\"Directory contents:\")\n",
    "import os\n",
    "for i, item in enumerate(os.listdir('.')):\n",
    "    if i >= 1:\n",
    "        break\n",
    "    print(f\"  {i}: {item}\")\n"
   ]
  },
  {
   "cell_type": "markdown",
   "metadata": {},
   "source": [
    "## 1. Prompt-chaining\n",
    "\n",
    "This method breaks down a task into a series of sequential subtasks, where each step builds on previous results.\n",
    "\n",
    "For our example, we can break down the marketing AI agent chain into each of these steps:\n",
    "\n",
    "1. Create the idea to promote.\n",
    "2. Evaluate and score the ideas. Then pick one to continue with.\n",
    "3. Expand the idea into a blog post.\n",
    "4. Score/evaluate the blog post.\n",
    "5. Summarize blog post for email.\n",
    "6. Score/evaluate the email-formatted result.\n",
    "7. Create social media captions.\n",
    "8. Score/evaluate the social media captions.\n",
    "\n",
    "Let's do each of these in turn."
   ]
  },
  {
   "cell_type": "markdown",
   "metadata": {},
   "source": [
    "### 1a. Idea generation\n",
    "\n",
    "Here, let's create a first pass of our prompt for our idea generation step."
   ]
  },
  {
   "cell_type": "code",
   "execution_count": 10,
   "metadata": {},
   "outputs": [],
   "source": [
    "idea_generation_prompt = \"\"\"\n",
    "You are a marketing agent. You are given a product and a target audience.\n",
    "You will generate a list of ideas for a marketing campaign.\n",
    "\n",
    "Client: American-style brunch restaurant.\n",
    "\n",
    "Product: Brunch menu. Things we want to promote include:\n",
    "- $9.99 full breakfast with coffee. Features 2 eggs, 3 pieces of bacon\n",
    "(or choice of meat), potatoes, fresh fruit, and coffee.\n",
    "- Hearty Mediterranean wrap for lunch\n",
    "- Popular $20.99 Sunday brunch buffet featuring full breakfast options\n",
    "(eggs, pancakes, waffles, bacon, sausage, hash browns, omelettes)\n",
    "and lunch options (salad bar, meats, etc.).\n",
    "\n",
    "Target audience:\n",
    "    - Families\n",
    "    - Health-minded individuals\n",
    "    - Brunch group gatherings\n",
    "\"\"\""
   ]
  },
  {
   "cell_type": "markdown",
   "metadata": {},
   "source": [
    "Let's actually pass this into an LLM to improve the prompt. We can use an LLM for this prompt improving task, and there are explicit tools like Claude's [prompt improver](https://docs.anthropic.com/en/docs/build-with-claude/prompt-engineering/prompt-improver) made for this task alone.\n",
    "\n",
    "Here's the improved version that ChatGPT gave me:\n"
   ]
  },
  {
   "cell_type": "code",
   "execution_count": 11,
   "metadata": {},
   "outputs": [],
   "source": [
    "idea_generation_prompt = \"\"\"\n",
    "You are an expert marketing agent helping a neighborhood American-style brunch restaurant design a creative and targeted marketing campaign. You will be given product offerings and a target audience. Your job is to generate 5–7 campaign ideas that highlight the value of the offerings and appeal to the specific interests of the audience segments.\n",
    "\n",
    "Client: Independent American-style brunch restaurant known for quality and community.\n",
    "\n",
    "Product offerings to highlight:\n",
    "1. Budget-friendly $9.99 full breakfast combo — includes 2 eggs, choice of meat (bacon, sausage, or veggie patty), breakfast potatoes, fresh fruit, and coffee.\n",
    "2. Hearty and nutritious Mediterranean wrap — packed with veggies and lean protein, great for health-conscious diners.\n",
    "3. Popular $20.99 all-you-can-eat Sunday brunch buffet — includes full breakfast classics (eggs, pancakes, waffles, bacon, sausage, hash browns, omelets) and lunch options (salad bar, seasonal meats, and sides).\n",
    "\n",
    "Target audience:\n",
    "- Families looking for weekend outings\n",
    "- Health-conscious individuals seeking nutritious, flavorful options\n",
    "- Social brunch groups celebrating milestones or gathering casually\n",
    "\n",
    "Output:\n",
    "- A list of 5-7 specific marketing campaign ideas\n",
    "- Each idea should include a title and a 2-3 sentence explanation\n",
    "- Tailor each idea to one or more of the audience segments\n",
    "- Highlight value, experience, or emotional appeal\n",
    "\"\"\""
   ]
  },
  {
   "cell_type": "markdown",
   "metadata": {},
   "source": [
    "Let's also make sure that our prompt conforms to a specific format.\n"
   ]
  },
  {
   "cell_type": "code",
   "execution_count": 16,
   "metadata": {},
   "outputs": [],
   "source": [
    "from langchain.chat_models import ChatOpenAI\n",
    "from langchain.output_parsers import PydanticOutputParser\n",
    "from langchain.prompts import PromptTemplate\n",
    "from langchain.schema import SystemMessage, HumanMessage\n"
   ]
  },
  {
   "cell_type": "code",
   "execution_count": 17,
   "metadata": {},
   "outputs": [],
   "source": [
    "from marketing_agent_examples.models import ProposedIdeasWrapper\n",
    "\n",
    "parser = PydanticOutputParser(pydantic_object=ProposedIdeasWrapper)"
   ]
  },
  {
   "cell_type": "code",
   "execution_count": 23,
   "metadata": {},
   "outputs": [],
   "source": [
    "format_instructions = parser.get_format_instructions()\n",
    "\n",
    "prompt = PromptTemplate(\n",
    "    template=\"\"\"\n",
    "        {idea_generation_prompt}\n",
    "        {format_instructions}\n",
    "    \"\"\",\n",
    "    input_variables=[],\n",
    "    partial_variables={\n",
    "        \"format_instructions\": format_instructions,\n",
    "        \"idea_generation_prompt\": idea_generation_prompt\n",
    "    }\n",
    ")"
   ]
  },
  {
   "cell_type": "code",
   "execution_count": 24,
   "metadata": {},
   "outputs": [
    {
     "name": "stderr",
     "output_type": "stream",
     "text": [
      "/var/folders/9g/nhh_jmv17sd2604y43zdctzw0000gn/T/ipykernel_93715/940076340.py:1: LangChainDeprecationWarning: The class `ChatOpenAI` was deprecated in LangChain 0.0.10 and will be removed in 1.0. An updated version of the class exists in the :class:`~langchain-openai package and should be used instead. To use it run `pip install -U :class:`~langchain-openai` and import as `from :class:`~langchain_openai import ChatOpenAI``.\n",
      "  llm = ChatOpenAI(model=\"gpt-4o-mini\", temperature=0.0)\n"
     ]
    }
   ],
   "source": [
    "llm = ChatOpenAI(model=\"gpt-4o-mini\", temperature=0.0)"
   ]
  },
  {
   "cell_type": "code",
   "execution_count": 25,
   "metadata": {},
   "outputs": [],
   "source": [
    "messages = [\n",
    "    SystemMessage(content=\"You are a helpful assistant.\"),\n",
    "    HumanMessage(content=prompt.format())\n",
    "]"
   ]
  },
  {
   "cell_type": "markdown",
   "metadata": {},
   "source": [
    "Let's try this out and see what we get."
   ]
  },
  {
   "cell_type": "code",
   "execution_count": 26,
   "metadata": {},
   "outputs": [
    {
     "name": "stderr",
     "output_type": "stream",
     "text": [
      "/var/folders/9g/nhh_jmv17sd2604y43zdctzw0000gn/T/ipykernel_93715/3050779672.py:1: LangChainDeprecationWarning: The method `BaseChatModel.__call__` was deprecated in langchain-core 0.1.7 and will be removed in 1.0. Use :meth:`~invoke` instead.\n",
      "  response = llm(messages)\n"
     ]
    }
   ],
   "source": [
    "response = llm(messages)\n",
    "parsed = parser.parse(response.content)"
   ]
  },
  {
   "cell_type": "code",
   "execution_count": 28,
   "metadata": {},
   "outputs": [
    {
     "name": "stdout",
     "output_type": "stream",
     "text": [
      "\n",
      "=== Idea 1 ===\n",
      "Idea: Family Fun Brunch Day\n",
      "Audience: Families looking for weekend outings\n",
      "Campaign Message: Create lasting memories with our budget-friendly $9.99 full breakfast combo, perfect for families!\n",
      "==================================================\n",
      "\n",
      "=== Idea 2 ===\n",
      "Idea: Healthy Start Sundays\n",
      "Audience: Health-conscious individuals seeking nutritious, flavorful options\n",
      "Campaign Message: Kickstart your week with our nutritious Mediterranean wrap, packed with fresh veggies and lean protein!\n",
      "==================================================\n",
      "\n",
      "=== Idea 3 ===\n",
      "Idea: Brunch & Celebrate\n",
      "Audience: Social brunch groups celebrating milestones or gathering casually\n",
      "Campaign Message: Celebrate life’s moments with our all-you-can-eat Sunday brunch buffet, perfect for gatherings!\n",
      "==================================================\n",
      "\n",
      "=== Idea 4 ===\n",
      "Idea: Brunch Buddy Loyalty Program\n",
      "Audience: Families looking for weekend outings and social brunch groups\n",
      "Campaign Message: Join our Brunch Buddy Loyalty Program and earn rewards for every visit!\n",
      "==================================================\n",
      "\n",
      "=== Idea 5 ===\n",
      "Idea: Weekend Brunch Specials\n",
      "Audience: Families looking for weekend outings and health-conscious individuals\n",
      "Campaign Message: Enjoy our special weekend brunch menu featuring both hearty and healthy options!\n",
      "==================================================\n",
      "\n",
      "=== Idea 6 ===\n",
      "Idea: Brunch with a Cause\n",
      "Audience: Social brunch groups celebrating milestones or gathering casually\n",
      "Campaign Message: Gather your friends for brunch and support local charities with our Brunch with a Cause events!\n",
      "==================================================\n",
      "\n",
      "=== Idea 7 ===\n",
      "Idea: Seasonal Flavor Fest\n",
      "Audience: Health-conscious individuals and families looking for weekend outings\n",
      "Campaign Message: Experience the taste of the season with our fresh, flavorful brunch options!\n",
      "==================================================\n"
     ]
    }
   ],
   "source": [
    "for i, idea in enumerate(parsed.ideas, 1):\n",
    "    print(f\"\\n=== Idea {i} ===\")\n",
    "    print(f\"Idea: {idea.idea}\")\n",
    "    print(f\"Audience: {idea.audience}\")\n",
    "    print(f\"Campaign Message: {idea.campaign_message}\")\n",
    "    print(\"=\" * 50)"
   ]
  },
  {
   "cell_type": "markdown",
   "metadata": {},
   "source": [
    "### 1b. Idea evaluation"
   ]
  },
  {
   "cell_type": "markdown",
   "metadata": {},
   "source": [
    "### 1e. Chaining it all together.\n",
    "\n",
    "Let's now chain all of these responses together."
   ]
  },
  {
   "cell_type": "markdown",
   "metadata": {},
   "source": [
    "## 2. Parallelization\n",
    "\n",
    "(take the steps from above and pick some to rewrite or redo to include parallelization, and why to do parallelization in the first place. Should explain why parallelization is appropriate in some cases)."
   ]
  },
  {
   "cell_type": "markdown",
   "metadata": {},
   "source": [
    "## 3. Routing\n",
    "\n",
    "(take the steps from above and pick some to rewrite or redo to include routing, and why to do routing in the first place. Should explain why routing is appropriate in some cases)."
   ]
  },
  {
   "cell_type": "markdown",
   "metadata": {},
   "source": [
    "## 4. Orchestrator-subagents"
   ]
  },
  {
   "cell_type": "markdown",
   "metadata": {},
   "source": [
    "## 5. Evaluator-optimizer"
   ]
  },
  {
   "cell_type": "markdown",
   "metadata": {},
   "source": [
    "## What's next?\n",
    "(suggestions for how to improve what we've built, e.g., evals, how to optimize, etc.)\n",
    "\n",
    "(could put this in a different Jupyter notebook TBH? Something about follow-ups? IDK if best here, since this would likely be generic across all workflows)"
   ]
  },
  {
   "cell_type": "markdown",
   "metadata": {},
   "source": []
  }
 ],
 "metadata": {
  "kernelspec": {
   "display_name": "ai_agent_learning_examples",
   "language": "python",
   "name": "python3"
  },
  "language_info": {
   "codemirror_mode": {
    "name": "ipython",
    "version": 3
   },
   "file_extension": ".py",
   "mimetype": "text/x-python",
   "name": "python",
   "nbconvert_exporter": "python",
   "pygments_lexer": "ipython3",
   "version": "3.12.11"
  }
 },
 "nbformat": 4,
 "nbformat_minor": 2
}
